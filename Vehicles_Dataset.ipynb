{
  "nbformat": 4,
  "nbformat_minor": 0,
  "metadata": {
    "colab": {
      "name": "Vehicles Dataset",
      "provenance": [],
      "collapsed_sections": []
    },
    "kernelspec": {
      "name": "python3",
      "display_name": "Python 3"
    },
    "language_info": {
      "name": "python"
    }
  },
  "cells": [
    {
      "cell_type": "markdown",
      "source": [
        "# Vehicles Dataset\n",
        "In this project the main goal is to have a thorough Exploratory Data Analysis and preliminary machine learning for the dataset"
      ],
      "metadata": {
        "id": "MxCgInwML19b"
      }
    },
    {
      "cell_type": "markdown",
      "source": [
        "# Project Overview\n",
        "\n",
        "\n",
        "\n",
        "1.   Understanding the shape of the data\n",
        "2.   Data Cleaning\n",
        "3.   Data Exploration\n",
        "4.   Feature Engineering\n",
        "5.   Data Preprocessing for Model\n",
        "6.   Model Building\n",
        "7.   Model Tuning\n",
        "8.   Ensemble Model Building\n",
        "9.   Results\n",
        "\n"
      ],
      "metadata": {
        "id": "TGeOY29LMGGp"
      }
    },
    {
      "cell_type": "markdown",
      "source": [
        "## Importing of Libraries and Loading of the Dataset"
      ],
      "metadata": {
        "id": "dVQR7Z8ILsk5"
      }
    },
    {
      "cell_type": "code",
      "execution_count": 85,
      "metadata": {
        "id": "L9rS8CRO96Go"
      },
      "outputs": [],
      "source": [
        "# Import libraries and mount drive\n",
        "import numpy as np\n",
        "import pandas as pd\n",
        "import matplotlib.pyplot as plt\n",
        "%matplotlib inline\n",
        "import seaborn as sns\n",
        "\n",
        "import sklearn as sks\n",
        "from sklearn.model_selection import train_test_split\n",
        "from sklearn.compose import make_column_selector\n",
        "from sklearn.impute import SimpleImputer\n",
        "from sklearn.preprocessing import OneHotEncoder\n",
        "from sklearn.compose import make_column_transformer\n",
        "from sklearn.compose import ColumnTransformer\n",
        "from sklearn.preprocessing import StandardScaler\n",
        "from sklearn.pipeline import make_pipeline\n",
        "from sklearn.pipeline import Pipeline\n",
        "from sklearn.metrics import r2_score, accuracy_score, precision_score, recall_score\n",
        "from sklearn.metrics import mean_absolute_error\n",
        "from sklearn.metrics import mean_squared_error\n",
        "\n",
        "from google.colab import drive\n",
        "#drive.mount('/content/drive')"
      ]
    },
    {
      "cell_type": "markdown",
      "source": [
        "## Project Planning"
      ],
      "metadata": {
        "id": "QV4xRKuz-VVQ"
      }
    },
    {
      "cell_type": "code",
      "source": [
        "# Understand the nature of the data\n",
        "# Value counts\n",
        "# Histograms, boxplots, distplot, and heatmaps\n",
        "# Missing data\n",
        "# Explore data themes\n",
        "# Feature engineering\n",
        "# Data preprocessing\n",
        "# Building the model\n",
        "# Model comparison with CV"
      ],
      "metadata": {
        "id": "fvxytz7kMr9Z"
      },
      "execution_count": 86,
      "outputs": []
    },
    {
      "cell_type": "markdown",
      "source": [
        "## Understand the Nature of the Dataset"
      ],
      "metadata": {
        "id": "Lwd2NUXfNN5-"
      }
    },
    {
      "cell_type": "code",
      "source": [
        "# Load the dataset\n",
        "vehicles = pd.read_csv('vehicles.csv', encoding = 'iso-8859-1')\n",
        "vehicles.head(10)"
      ],
      "metadata": {
        "colab": {
          "base_uri": "https://localhost:8080/",
          "height": 1000
        },
        "id": "hhH2dtfR758t",
        "outputId": "482bc233-223d-4b23-9c22-84cfdf2c9197"
      },
      "execution_count": 87,
      "outputs": [
        {
          "output_type": "execute_result",
          "data": {
            "text/html": [
              "\n",
              "  <div id=\"df-5c9574e2-f3e0-40b2-808f-51af9681c82f\">\n",
              "    <div class=\"colab-df-container\">\n",
              "      <div>\n",
              "<style scoped>\n",
              "    .dataframe tbody tr th:only-of-type {\n",
              "        vertical-align: middle;\n",
              "    }\n",
              "\n",
              "    .dataframe tbody tr th {\n",
              "        vertical-align: top;\n",
              "    }\n",
              "\n",
              "    .dataframe thead th {\n",
              "        text-align: right;\n",
              "    }\n",
              "</style>\n",
              "<table border=\"1\" class=\"dataframe\">\n",
              "  <thead>\n",
              "    <tr style=\"text-align: right;\">\n",
              "      <th></th>\n",
              "      <th>Unnamed: 0</th>\n",
              "      <th>id</th>\n",
              "      <th>region</th>\n",
              "      <th>price</th>\n",
              "      <th>year</th>\n",
              "      <th>manufacturer</th>\n",
              "      <th>model</th>\n",
              "      <th>condition</th>\n",
              "      <th>cylinders</th>\n",
              "      <th>fuel</th>\n",
              "      <th>odometer</th>\n",
              "      <th>title_status</th>\n",
              "      <th>transmission</th>\n",
              "      <th>VIN</th>\n",
              "      <th>drive</th>\n",
              "      <th>size</th>\n",
              "      <th>type</th>\n",
              "      <th>paint_color</th>\n",
              "      <th>description</th>\n",
              "      <th>state</th>\n",
              "      <th>lat</th>\n",
              "      <th>long</th>\n",
              "      <th>posting_date</th>\n",
              "    </tr>\n",
              "  </thead>\n",
              "  <tbody>\n",
              "    <tr>\n",
              "      <th>0</th>\n",
              "      <td>0</td>\n",
              "      <td>7240372487</td>\n",
              "      <td>auburn</td>\n",
              "      <td>35990</td>\n",
              "      <td>2010.0</td>\n",
              "      <td>chevrolet</td>\n",
              "      <td>corvette grand sport</td>\n",
              "      <td>good</td>\n",
              "      <td>8 cylinders</td>\n",
              "      <td>gas</td>\n",
              "      <td>32742.0</td>\n",
              "      <td>clean</td>\n",
              "      <td>other</td>\n",
              "      <td>1G1YU3DW1A5106980</td>\n",
              "      <td>rwd</td>\n",
              "      <td>NaN</td>\n",
              "      <td>other</td>\n",
              "      <td>NaN</td>\n",
              "      <td>Carvana is the safer way to buy a car During t...</td>\n",
              "      <td>al</td>\n",
              "      <td>32.590000</td>\n",
              "      <td>-85.480000</td>\n",
              "      <td>2020-12-02T08:11:30-0600</td>\n",
              "    </tr>\n",
              "    <tr>\n",
              "      <th>1</th>\n",
              "      <td>1</td>\n",
              "      <td>7240309422</td>\n",
              "      <td>auburn</td>\n",
              "      <td>7500</td>\n",
              "      <td>2014.0</td>\n",
              "      <td>hyundai</td>\n",
              "      <td>sonata</td>\n",
              "      <td>excellent</td>\n",
              "      <td>4 cylinders</td>\n",
              "      <td>gas</td>\n",
              "      <td>93600.0</td>\n",
              "      <td>clean</td>\n",
              "      <td>automatic</td>\n",
              "      <td>5NPEC4AB0EH813529</td>\n",
              "      <td>fwd</td>\n",
              "      <td>NaN</td>\n",
              "      <td>sedan</td>\n",
              "      <td>NaN</td>\n",
              "      <td>I'll move to another city and try to sell my c...</td>\n",
              "      <td>al</td>\n",
              "      <td>32.547500</td>\n",
              "      <td>-85.468200</td>\n",
              "      <td>2020-12-02T02:11:50-0600</td>\n",
              "    </tr>\n",
              "    <tr>\n",
              "      <th>2</th>\n",
              "      <td>2</td>\n",
              "      <td>7240224296</td>\n",
              "      <td>auburn</td>\n",
              "      <td>4900</td>\n",
              "      <td>2006.0</td>\n",
              "      <td>bmw</td>\n",
              "      <td>x3 3.0i</td>\n",
              "      <td>good</td>\n",
              "      <td>6 cylinders</td>\n",
              "      <td>gas</td>\n",
              "      <td>87046.0</td>\n",
              "      <td>clean</td>\n",
              "      <td>automatic</td>\n",
              "      <td>NaN</td>\n",
              "      <td>NaN</td>\n",
              "      <td>NaN</td>\n",
              "      <td>SUV</td>\n",
              "      <td>blue</td>\n",
              "      <td>Clean 2006 BMW X3 3.0I.  Beautiful and rare Bl...</td>\n",
              "      <td>al</td>\n",
              "      <td>32.616807</td>\n",
              "      <td>-85.464149</td>\n",
              "      <td>2020-12-01T19:50:41-0600</td>\n",
              "    </tr>\n",
              "    <tr>\n",
              "      <th>3</th>\n",
              "      <td>3</td>\n",
              "      <td>7240103965</td>\n",
              "      <td>auburn</td>\n",
              "      <td>2000</td>\n",
              "      <td>1974.0</td>\n",
              "      <td>chevrolet</td>\n",
              "      <td>c-10</td>\n",
              "      <td>good</td>\n",
              "      <td>4 cylinders</td>\n",
              "      <td>gas</td>\n",
              "      <td>190000.0</td>\n",
              "      <td>clean</td>\n",
              "      <td>automatic</td>\n",
              "      <td>NaN</td>\n",
              "      <td>rwd</td>\n",
              "      <td>full-size</td>\n",
              "      <td>pickup</td>\n",
              "      <td>blue</td>\n",
              "      <td>1974 chev. truck (LONG BED) NEW starter front ...</td>\n",
              "      <td>al</td>\n",
              "      <td>32.861600</td>\n",
              "      <td>-85.216100</td>\n",
              "      <td>2020-12-01T15:54:45-0600</td>\n",
              "    </tr>\n",
              "    <tr>\n",
              "      <th>4</th>\n",
              "      <td>4</td>\n",
              "      <td>7239983776</td>\n",
              "      <td>auburn</td>\n",
              "      <td>19500</td>\n",
              "      <td>2005.0</td>\n",
              "      <td>ford</td>\n",
              "      <td>f350 lariat</td>\n",
              "      <td>excellent</td>\n",
              "      <td>8 cylinders</td>\n",
              "      <td>diesel</td>\n",
              "      <td>116000.0</td>\n",
              "      <td>lien</td>\n",
              "      <td>automatic</td>\n",
              "      <td>NaN</td>\n",
              "      <td>4wd</td>\n",
              "      <td>full-size</td>\n",
              "      <td>pickup</td>\n",
              "      <td>blue</td>\n",
              "      <td>2005 Ford F350 Lariat (Bullet Proofed). This t...</td>\n",
              "      <td>al</td>\n",
              "      <td>32.547500</td>\n",
              "      <td>-85.468200</td>\n",
              "      <td>2020-12-01T12:53:56-0600</td>\n",
              "    </tr>\n",
              "    <tr>\n",
              "      <th>5</th>\n",
              "      <td>5</td>\n",
              "      <td>7239776805</td>\n",
              "      <td>auburn</td>\n",
              "      <td>29590</td>\n",
              "      <td>2016.0</td>\n",
              "      <td>toyota</td>\n",
              "      <td>tacoma double cab sr5</td>\n",
              "      <td>good</td>\n",
              "      <td>6 cylinders</td>\n",
              "      <td>gas</td>\n",
              "      <td>33290.0</td>\n",
              "      <td>clean</td>\n",
              "      <td>other</td>\n",
              "      <td>3TMAZ5CN6GM020355</td>\n",
              "      <td>NaN</td>\n",
              "      <td>NaN</td>\n",
              "      <td>pickup</td>\n",
              "      <td>red</td>\n",
              "      <td>Carvana is the safer way to buy a car During t...</td>\n",
              "      <td>al</td>\n",
              "      <td>32.590000</td>\n",
              "      <td>-85.480000</td>\n",
              "      <td>2020-12-01T07:27:25-0600</td>\n",
              "    </tr>\n",
              "    <tr>\n",
              "      <th>6</th>\n",
              "      <td>6</td>\n",
              "      <td>7239425036</td>\n",
              "      <td>auburn</td>\n",
              "      <td>39990</td>\n",
              "      <td>2012.0</td>\n",
              "      <td>ford</td>\n",
              "      <td>mustang shelby gt500 coupe</td>\n",
              "      <td>good</td>\n",
              "      <td>8 cylinders</td>\n",
              "      <td>gas</td>\n",
              "      <td>9692.0</td>\n",
              "      <td>clean</td>\n",
              "      <td>other</td>\n",
              "      <td>1ZVBP8JS8C5240016</td>\n",
              "      <td>rwd</td>\n",
              "      <td>NaN</td>\n",
              "      <td>coupe</td>\n",
              "      <td>blue</td>\n",
              "      <td>Carvana is the safer way to buy a car During t...</td>\n",
              "      <td>al</td>\n",
              "      <td>32.590000</td>\n",
              "      <td>-85.480000</td>\n",
              "      <td>2020-11-30T13:34:00-0600</td>\n",
              "    </tr>\n",
              "    <tr>\n",
              "      <th>7</th>\n",
              "      <td>7</td>\n",
              "      <td>7238667661</td>\n",
              "      <td>auburn</td>\n",
              "      <td>41990</td>\n",
              "      <td>2012.0</td>\n",
              "      <td>chevrolet</td>\n",
              "      <td>camaro zl1 coupe 2d</td>\n",
              "      <td>good</td>\n",
              "      <td>8 cylinders</td>\n",
              "      <td>gas</td>\n",
              "      <td>2778.0</td>\n",
              "      <td>clean</td>\n",
              "      <td>other</td>\n",
              "      <td>2G1FS1EP4C9800609</td>\n",
              "      <td>rwd</td>\n",
              "      <td>NaN</td>\n",
              "      <td>coupe</td>\n",
              "      <td>red</td>\n",
              "      <td>Carvana is the safer way to buy a car During t...</td>\n",
              "      <td>al</td>\n",
              "      <td>32.590000</td>\n",
              "      <td>-85.480000</td>\n",
              "      <td>2020-11-29T07:39:33-0600</td>\n",
              "    </tr>\n",
              "    <tr>\n",
              "      <th>8</th>\n",
              "      <td>8</td>\n",
              "      <td>7238127696</td>\n",
              "      <td>auburn</td>\n",
              "      <td>31990</td>\n",
              "      <td>2017.0</td>\n",
              "      <td>jeep</td>\n",
              "      <td>wrangler unlimited sport s</td>\n",
              "      <td>good</td>\n",
              "      <td>6 cylinders</td>\n",
              "      <td>gas</td>\n",
              "      <td>29614.0</td>\n",
              "      <td>clean</td>\n",
              "      <td>other</td>\n",
              "      <td>1C4BJWDG9HL725235</td>\n",
              "      <td>4wd</td>\n",
              "      <td>NaN</td>\n",
              "      <td>other</td>\n",
              "      <td>NaN</td>\n",
              "      <td>Carvana is the safer way to buy a car During t...</td>\n",
              "      <td>al</td>\n",
              "      <td>32.590000</td>\n",
              "      <td>-85.480000</td>\n",
              "      <td>2020-11-28T07:21:09-0600</td>\n",
              "    </tr>\n",
              "    <tr>\n",
              "      <th>9</th>\n",
              "      <td>9</td>\n",
              "      <td>7237779886</td>\n",
              "      <td>auburn</td>\n",
              "      <td>490</td>\n",
              "      <td>2019.0</td>\n",
              "      <td>ford</td>\n",
              "      <td>transit connect wagon xlt</td>\n",
              "      <td>excellent</td>\n",
              "      <td>4 cylinders</td>\n",
              "      <td>gas</td>\n",
              "      <td>4775.0</td>\n",
              "      <td>clean</td>\n",
              "      <td>automatic</td>\n",
              "      <td>NM0GE9F22K1398142</td>\n",
              "      <td>NaN</td>\n",
              "      <td>NaN</td>\n",
              "      <td>van</td>\n",
              "      <td>NaN</td>\n",
              "      <td>2019 Ford Transit Connect Wagon XLT FOR ONLY $...</td>\n",
              "      <td>al</td>\n",
              "      <td>36.967357</td>\n",
              "      <td>-122.024254</td>\n",
              "      <td>2020-11-27T12:42:28-0600</td>\n",
              "    </tr>\n",
              "  </tbody>\n",
              "</table>\n",
              "</div>\n",
              "      <button class=\"colab-df-convert\" onclick=\"convertToInteractive('df-5c9574e2-f3e0-40b2-808f-51af9681c82f')\"\n",
              "              title=\"Convert this dataframe to an interactive table.\"\n",
              "              style=\"display:none;\">\n",
              "        \n",
              "  <svg xmlns=\"http://www.w3.org/2000/svg\" height=\"24px\"viewBox=\"0 0 24 24\"\n",
              "       width=\"24px\">\n",
              "    <path d=\"M0 0h24v24H0V0z\" fill=\"none\"/>\n",
              "    <path d=\"M18.56 5.44l.94 2.06.94-2.06 2.06-.94-2.06-.94-.94-2.06-.94 2.06-2.06.94zm-11 1L8.5 8.5l.94-2.06 2.06-.94-2.06-.94L8.5 2.5l-.94 2.06-2.06.94zm10 10l.94 2.06.94-2.06 2.06-.94-2.06-.94-.94-2.06-.94 2.06-2.06.94z\"/><path d=\"M17.41 7.96l-1.37-1.37c-.4-.4-.92-.59-1.43-.59-.52 0-1.04.2-1.43.59L10.3 9.45l-7.72 7.72c-.78.78-.78 2.05 0 2.83L4 21.41c.39.39.9.59 1.41.59.51 0 1.02-.2 1.41-.59l7.78-7.78 2.81-2.81c.8-.78.8-2.07 0-2.86zM5.41 20L4 18.59l7.72-7.72 1.47 1.35L5.41 20z\"/>\n",
              "  </svg>\n",
              "      </button>\n",
              "      \n",
              "  <style>\n",
              "    .colab-df-container {\n",
              "      display:flex;\n",
              "      flex-wrap:wrap;\n",
              "      gap: 12px;\n",
              "    }\n",
              "\n",
              "    .colab-df-convert {\n",
              "      background-color: #E8F0FE;\n",
              "      border: none;\n",
              "      border-radius: 50%;\n",
              "      cursor: pointer;\n",
              "      display: none;\n",
              "      fill: #1967D2;\n",
              "      height: 32px;\n",
              "      padding: 0 0 0 0;\n",
              "      width: 32px;\n",
              "    }\n",
              "\n",
              "    .colab-df-convert:hover {\n",
              "      background-color: #E2EBFA;\n",
              "      box-shadow: 0px 1px 2px rgba(60, 64, 67, 0.3), 0px 1px 3px 1px rgba(60, 64, 67, 0.15);\n",
              "      fill: #174EA6;\n",
              "    }\n",
              "\n",
              "    [theme=dark] .colab-df-convert {\n",
              "      background-color: #3B4455;\n",
              "      fill: #D2E3FC;\n",
              "    }\n",
              "\n",
              "    [theme=dark] .colab-df-convert:hover {\n",
              "      background-color: #434B5C;\n",
              "      box-shadow: 0px 1px 3px 1px rgba(0, 0, 0, 0.15);\n",
              "      filter: drop-shadow(0px 1px 2px rgba(0, 0, 0, 0.3));\n",
              "      fill: #FFFFFF;\n",
              "    }\n",
              "  </style>\n",
              "\n",
              "      <script>\n",
              "        const buttonEl =\n",
              "          document.querySelector('#df-5c9574e2-f3e0-40b2-808f-51af9681c82f button.colab-df-convert');\n",
              "        buttonEl.style.display =\n",
              "          google.colab.kernel.accessAllowed ? 'block' : 'none';\n",
              "\n",
              "        async function convertToInteractive(key) {\n",
              "          const element = document.querySelector('#df-5c9574e2-f3e0-40b2-808f-51af9681c82f');\n",
              "          const dataTable =\n",
              "            await google.colab.kernel.invokeFunction('convertToInteractive',\n",
              "                                                     [key], {});\n",
              "          if (!dataTable) return;\n",
              "\n",
              "          const docLinkHtml = 'Like what you see? Visit the ' +\n",
              "            '<a target=\"_blank\" href=https://colab.research.google.com/notebooks/data_table.ipynb>data table notebook</a>'\n",
              "            + ' to learn more about interactive tables.';\n",
              "          element.innerHTML = '';\n",
              "          dataTable['output_type'] = 'display_data';\n",
              "          await google.colab.output.renderOutput(dataTable, element);\n",
              "          const docLink = document.createElement('div');\n",
              "          docLink.innerHTML = docLinkHtml;\n",
              "          element.appendChild(docLink);\n",
              "        }\n",
              "      </script>\n",
              "    </div>\n",
              "  </div>\n",
              "  "
            ],
            "text/plain": [
              "   Unnamed: 0          id  ...        long              posting_date\n",
              "0           0  7240372487  ...  -85.480000  2020-12-02T08:11:30-0600\n",
              "1           1  7240309422  ...  -85.468200  2020-12-02T02:11:50-0600\n",
              "2           2  7240224296  ...  -85.464149  2020-12-01T19:50:41-0600\n",
              "3           3  7240103965  ...  -85.216100  2020-12-01T15:54:45-0600\n",
              "4           4  7239983776  ...  -85.468200  2020-12-01T12:53:56-0600\n",
              "5           5  7239776805  ...  -85.480000  2020-12-01T07:27:25-0600\n",
              "6           6  7239425036  ...  -85.480000  2020-11-30T13:34:00-0600\n",
              "7           7  7238667661  ...  -85.480000  2020-11-29T07:39:33-0600\n",
              "8           8  7238127696  ...  -85.480000  2020-11-28T07:21:09-0600\n",
              "9           9  7237779886  ... -122.024254  2020-11-27T12:42:28-0600\n",
              "\n",
              "[10 rows x 23 columns]"
            ]
          },
          "metadata": {},
          "execution_count": 87
        }
      ]
    },
    {
      "cell_type": "code",
      "source": [
        "# Check the information of the dataframe\n",
        "vehicles.info()"
      ],
      "metadata": {
        "colab": {
          "base_uri": "https://localhost:8080/"
        },
        "id": "BywF5XXiLmja",
        "outputId": "29f54387-d8b7-4a48-9299-1c4de1431982"
      },
      "execution_count": 88,
      "outputs": [
        {
          "output_type": "stream",
          "name": "stdout",
          "text": [
            "<class 'pandas.core.frame.DataFrame'>\n",
            "RangeIndex: 1999 entries, 0 to 1998\n",
            "Data columns (total 23 columns):\n",
            " #   Column        Non-Null Count  Dtype  \n",
            "---  ------        --------------  -----  \n",
            " 0   Unnamed: 0    1999 non-null   int64  \n",
            " 1   id            1999 non-null   int64  \n",
            " 2   region        1999 non-null   object \n",
            " 3   price         1999 non-null   int64  \n",
            " 4   year          1981 non-null   float64\n",
            " 5   manufacturer  1870 non-null   object \n",
            " 6   model         1989 non-null   object \n",
            " 7   condition     1062 non-null   object \n",
            " 8   cylinders     1270 non-null   object \n",
            " 9   fuel          1978 non-null   object \n",
            " 10  odometer      1594 non-null   float64\n",
            " 11  title_status  1903 non-null   object \n",
            " 12  transmission  1999 non-null   object \n",
            " 13  VIN           1204 non-null   object \n",
            " 14  drive         1386 non-null   object \n",
            " 15  size          563 non-null    object \n",
            " 16  type          1288 non-null   object \n",
            " 17  paint_color   1528 non-null   object \n",
            " 18  description   1999 non-null   object \n",
            " 19  state         1999 non-null   object \n",
            " 20  lat           1988 non-null   float64\n",
            " 21  long          1988 non-null   float64\n",
            " 22  posting_date  1999 non-null   object \n",
            "dtypes: float64(4), int64(3), object(16)\n",
            "memory usage: 359.3+ KB\n"
          ]
        }
      ]
    },
    {
      "cell_type": "markdown",
      "source": [
        "We can see that columns year, manufacturer, model, condition, cylinders, fuel, odometer, title_status, VIN, drive, size, type, paint_color, lat, and long have missing values"
      ],
      "metadata": {
        "id": "RX2HDxsiNYSP"
      }
    },
    {
      "cell_type": "code",
      "source": [
        "# Describe the dataframe\n",
        "vehicles.describe()"
      ],
      "metadata": {
        "colab": {
          "base_uri": "https://localhost:8080/",
          "height": 300
        },
        "id": "ciUDz9jsNWFl",
        "outputId": "1be7ca4a-d5a2-4c91-c7e9-fa1af41e2225"
      },
      "execution_count": 89,
      "outputs": [
        {
          "output_type": "execute_result",
          "data": {
            "text/html": [
              "\n",
              "  <div id=\"df-8caabb8c-1a5f-46ec-a25c-b774c6e3b1d8\">\n",
              "    <div class=\"colab-df-container\">\n",
              "      <div>\n",
              "<style scoped>\n",
              "    .dataframe tbody tr th:only-of-type {\n",
              "        vertical-align: middle;\n",
              "    }\n",
              "\n",
              "    .dataframe tbody tr th {\n",
              "        vertical-align: top;\n",
              "    }\n",
              "\n",
              "    .dataframe thead th {\n",
              "        text-align: right;\n",
              "    }\n",
              "</style>\n",
              "<table border=\"1\" class=\"dataframe\">\n",
              "  <thead>\n",
              "    <tr style=\"text-align: right;\">\n",
              "      <th></th>\n",
              "      <th>Unnamed: 0</th>\n",
              "      <th>id</th>\n",
              "      <th>price</th>\n",
              "      <th>year</th>\n",
              "      <th>odometer</th>\n",
              "      <th>lat</th>\n",
              "      <th>long</th>\n",
              "    </tr>\n",
              "  </thead>\n",
              "  <tbody>\n",
              "    <tr>\n",
              "      <th>count</th>\n",
              "      <td>1999.000000</td>\n",
              "      <td>1.999000e+03</td>\n",
              "      <td>1.999000e+03</td>\n",
              "      <td>1981.000000</td>\n",
              "      <td>1594.000000</td>\n",
              "      <td>1988.000000</td>\n",
              "      <td>1988.000000</td>\n",
              "    </tr>\n",
              "    <tr>\n",
              "      <th>mean</th>\n",
              "      <td>999.000000</td>\n",
              "      <td>7.233550e+09</td>\n",
              "      <td>6.338826e+05</td>\n",
              "      <td>2010.304897</td>\n",
              "      <td>105611.558971</td>\n",
              "      <td>34.070190</td>\n",
              "      <td>-86.740015</td>\n",
              "    </tr>\n",
              "    <tr>\n",
              "      <th>std</th>\n",
              "      <td>577.205914</td>\n",
              "      <td>4.088379e+06</td>\n",
              "      <td>2.761232e+07</td>\n",
              "      <td>8.876022</td>\n",
              "      <td>75904.797424</td>\n",
              "      <td>2.368996</td>\n",
              "      <td>6.005261</td>\n",
              "    </tr>\n",
              "    <tr>\n",
              "      <th>min</th>\n",
              "      <td>0.000000</td>\n",
              "      <td>7.224722e+09</td>\n",
              "      <td>0.000000e+00</td>\n",
              "      <td>1911.000000</td>\n",
              "      <td>0.000000</td>\n",
              "      <td>1.241841</td>\n",
              "      <td>-122.509472</td>\n",
              "    </tr>\n",
              "    <tr>\n",
              "      <th>25%</th>\n",
              "      <td>499.500000</td>\n",
              "      <td>7.229896e+09</td>\n",
              "      <td>5.800000e+03</td>\n",
              "      <td>2007.000000</td>\n",
              "      <td>47887.000000</td>\n",
              "      <td>33.209824</td>\n",
              "      <td>-86.858340</td>\n",
              "    </tr>\n",
              "    <tr>\n",
              "      <th>50%</th>\n",
              "      <td>999.000000</td>\n",
              "      <td>7.233576e+09</td>\n",
              "      <td>1.298700e+04</td>\n",
              "      <td>2012.000000</td>\n",
              "      <td>99371.000000</td>\n",
              "      <td>33.520000</td>\n",
              "      <td>-86.783409</td>\n",
              "    </tr>\n",
              "    <tr>\n",
              "      <th>75%</th>\n",
              "      <td>1498.500000</td>\n",
              "      <td>7.236935e+09</td>\n",
              "      <td>2.399500e+04</td>\n",
              "      <td>2016.000000</td>\n",
              "      <td>152398.500000</td>\n",
              "      <td>34.205600</td>\n",
              "      <td>-86.279647</td>\n",
              "    </tr>\n",
              "    <tr>\n",
              "      <th>max</th>\n",
              "      <td>1998.000000</td>\n",
              "      <td>7.240596e+09</td>\n",
              "      <td>1.234568e+09</td>\n",
              "      <td>2020.000000</td>\n",
              "      <td>1000000.000000</td>\n",
              "      <td>48.432675</td>\n",
              "      <td>-74.281734</td>\n",
              "    </tr>\n",
              "  </tbody>\n",
              "</table>\n",
              "</div>\n",
              "      <button class=\"colab-df-convert\" onclick=\"convertToInteractive('df-8caabb8c-1a5f-46ec-a25c-b774c6e3b1d8')\"\n",
              "              title=\"Convert this dataframe to an interactive table.\"\n",
              "              style=\"display:none;\">\n",
              "        \n",
              "  <svg xmlns=\"http://www.w3.org/2000/svg\" height=\"24px\"viewBox=\"0 0 24 24\"\n",
              "       width=\"24px\">\n",
              "    <path d=\"M0 0h24v24H0V0z\" fill=\"none\"/>\n",
              "    <path d=\"M18.56 5.44l.94 2.06.94-2.06 2.06-.94-2.06-.94-.94-2.06-.94 2.06-2.06.94zm-11 1L8.5 8.5l.94-2.06 2.06-.94-2.06-.94L8.5 2.5l-.94 2.06-2.06.94zm10 10l.94 2.06.94-2.06 2.06-.94-2.06-.94-.94-2.06-.94 2.06-2.06.94z\"/><path d=\"M17.41 7.96l-1.37-1.37c-.4-.4-.92-.59-1.43-.59-.52 0-1.04.2-1.43.59L10.3 9.45l-7.72 7.72c-.78.78-.78 2.05 0 2.83L4 21.41c.39.39.9.59 1.41.59.51 0 1.02-.2 1.41-.59l7.78-7.78 2.81-2.81c.8-.78.8-2.07 0-2.86zM5.41 20L4 18.59l7.72-7.72 1.47 1.35L5.41 20z\"/>\n",
              "  </svg>\n",
              "      </button>\n",
              "      \n",
              "  <style>\n",
              "    .colab-df-container {\n",
              "      display:flex;\n",
              "      flex-wrap:wrap;\n",
              "      gap: 12px;\n",
              "    }\n",
              "\n",
              "    .colab-df-convert {\n",
              "      background-color: #E8F0FE;\n",
              "      border: none;\n",
              "      border-radius: 50%;\n",
              "      cursor: pointer;\n",
              "      display: none;\n",
              "      fill: #1967D2;\n",
              "      height: 32px;\n",
              "      padding: 0 0 0 0;\n",
              "      width: 32px;\n",
              "    }\n",
              "\n",
              "    .colab-df-convert:hover {\n",
              "      background-color: #E2EBFA;\n",
              "      box-shadow: 0px 1px 2px rgba(60, 64, 67, 0.3), 0px 1px 3px 1px rgba(60, 64, 67, 0.15);\n",
              "      fill: #174EA6;\n",
              "    }\n",
              "\n",
              "    [theme=dark] .colab-df-convert {\n",
              "      background-color: #3B4455;\n",
              "      fill: #D2E3FC;\n",
              "    }\n",
              "\n",
              "    [theme=dark] .colab-df-convert:hover {\n",
              "      background-color: #434B5C;\n",
              "      box-shadow: 0px 1px 3px 1px rgba(0, 0, 0, 0.15);\n",
              "      filter: drop-shadow(0px 1px 2px rgba(0, 0, 0, 0.3));\n",
              "      fill: #FFFFFF;\n",
              "    }\n",
              "  </style>\n",
              "\n",
              "      <script>\n",
              "        const buttonEl =\n",
              "          document.querySelector('#df-8caabb8c-1a5f-46ec-a25c-b774c6e3b1d8 button.colab-df-convert');\n",
              "        buttonEl.style.display =\n",
              "          google.colab.kernel.accessAllowed ? 'block' : 'none';\n",
              "\n",
              "        async function convertToInteractive(key) {\n",
              "          const element = document.querySelector('#df-8caabb8c-1a5f-46ec-a25c-b774c6e3b1d8');\n",
              "          const dataTable =\n",
              "            await google.colab.kernel.invokeFunction('convertToInteractive',\n",
              "                                                     [key], {});\n",
              "          if (!dataTable) return;\n",
              "\n",
              "          const docLinkHtml = 'Like what you see? Visit the ' +\n",
              "            '<a target=\"_blank\" href=https://colab.research.google.com/notebooks/data_table.ipynb>data table notebook</a>'\n",
              "            + ' to learn more about interactive tables.';\n",
              "          element.innerHTML = '';\n",
              "          dataTable['output_type'] = 'display_data';\n",
              "          await google.colab.output.renderOutput(dataTable, element);\n",
              "          const docLink = document.createElement('div');\n",
              "          docLink.innerHTML = docLinkHtml;\n",
              "          element.appendChild(docLink);\n",
              "        }\n",
              "      </script>\n",
              "    </div>\n",
              "  </div>\n",
              "  "
            ],
            "text/plain": [
              "        Unnamed: 0            id  ...          lat         long\n",
              "count  1999.000000  1.999000e+03  ...  1988.000000  1988.000000\n",
              "mean    999.000000  7.233550e+09  ...    34.070190   -86.740015\n",
              "std     577.205914  4.088379e+06  ...     2.368996     6.005261\n",
              "min       0.000000  7.224722e+09  ...     1.241841  -122.509472\n",
              "25%     499.500000  7.229896e+09  ...    33.209824   -86.858340\n",
              "50%     999.000000  7.233576e+09  ...    33.520000   -86.783409\n",
              "75%    1498.500000  7.236935e+09  ...    34.205600   -86.279647\n",
              "max    1998.000000  7.240596e+09  ...    48.432675   -74.281734\n",
              "\n",
              "[8 rows x 7 columns]"
            ]
          },
          "metadata": {},
          "execution_count": 89
        }
      ]
    },
    {
      "cell_type": "code",
      "source": [
        "# Dop the Unnamed column\n",
        "vehicles.drop(columns=['Unnamed: 0'], inplace=True)"
      ],
      "metadata": {
        "id": "dKPHayhmPRex"
      },
      "execution_count": 90,
      "outputs": []
    },
    {
      "cell_type": "markdown",
      "source": [
        "## Light Data Exploration\n"
      ],
      "metadata": {
        "id": "bbBiq75jOPAA"
      }
    },
    {
      "cell_type": "code",
      "source": [
        "# Make dataframe for numerical and categorical variables\n",
        "vehicles_num = vehicles[['id', 'price', 'year', 'odometer', 'lat', 'long']]\n",
        "vehicles_cat = vehicles.drop(columns=['id', 'price', 'year', 'odometer', 'lat', 'long', 'description', 'VIN'])"
      ],
      "metadata": {
        "id": "l7XsdWutN0Oh"
      },
      "execution_count": 91,
      "outputs": []
    },
    {
      "cell_type": "code",
      "source": [
        "# Distribution for all the numeric variables\n",
        "for column in vehicles_num.columns:\n",
        "  plt.hist(vehicles_num[column])\n",
        "  plt.title(column)\n",
        "  plt.show()"
      ],
      "metadata": {
        "colab": {
          "base_uri": "https://localhost:8080/",
          "height": 1000
        },
        "id": "wj-iXEOWPnou",
        "outputId": "b563f5fb-03c4-467c-e4b8-f9a6d6d309f7"
      },
      "execution_count": 92,
      "outputs": [
        {
          "output_type": "display_data",
          "data": {
            "image/png": "[encoded data removed]",
            "text/plain": [
              "<Figure size 432x288 with 1 Axes>"
            ]
          },
          "metadata": {
            "needs_background": "light"
          }
        },
        {
          "output_type": "display_data",
          "data": {
            "image/png": "[encoded data removed]",
            "text/plain": [
              "<Figure size 432x288 with 1 Axes>"
            ]
          },
          "metadata": {
            "needs_background": "light"
          }
        },
        {
          "output_type": "display_data",
          "data": {
            "image/png": "[encoded data removed]",
            "text/plain": [
              "<Figure size 432x288 with 1 Axes>"
            ]
          },
          "metadata": {
            "needs_background": "light"
          }
        },
        {
          "output_type": "display_data",
          "data": {
            "image/png": "[encoded data removed]",
            "text/plain": [
              "<Figure size 432x288 with 1 Axes>"
            ]
          },
          "metadata": {
            "needs_background": "light"
          }
        },
        {
          "output_type": "display_data",
          "data": {
            "image/png": "[encoded data removed]",
            "text/plain": [
              "<Figure size 432x288 with 1 Axes>"
            ]
          },
          "metadata": {
            "needs_background": "light"
          }
        },
        {
          "output_type": "display_data",
          "data": {
            "image/png": "[encoded data removed]",
            "text/plain": [
              "<Figure size 432x288 with 1 Axes>"
            ]
          },
          "metadata": {
            "needs_background": "light"
          }
        }
      ]
    },
    {
      "cell_type": "code",
      "source": [
        "# Heatmap\n",
        "print(vehicles_num.corr())\n",
        "sns.heatmap(vehicles_num.corr())"
      ],
      "metadata": {
        "colab": {
          "base_uri": "https://localhost:8080/",
          "height": 408
        },
        "id": "lQ5VLdNBP2g0",
        "outputId": "de826486-a6b1-4bd5-9fd8-e5d76f208b7d"
      },
      "execution_count": 93,
      "outputs": [
        {
          "output_type": "stream",
          "name": "stdout",
          "text": [
            "                id     price      year  odometer       lat      long\n",
            "id        1.000000 -0.022498 -0.011627  0.018268 -0.055386  0.153230\n",
            "price    -0.022498  1.000000 -0.139949 -0.480425 -0.004090  0.000574\n",
            "year     -0.011627 -0.139949  1.000000 -0.342541 -0.017921  0.043449\n",
            "odometer  0.018268 -0.480425 -0.342541  1.000000 -0.057662  0.002819\n",
            "lat      -0.055386 -0.004090 -0.017921 -0.057662  1.000000  0.025649\n",
            "long      0.153230  0.000574  0.043449  0.002819  0.025649  1.000000\n"
          ]
        },
        {
          "output_type": "execute_result",
          "data": {
            "text/plain": [
              "<matplotlib.axes._subplots.AxesSubplot at 0x7ffa38836650>"
            ]
          },
          "metadata": {},
          "execution_count": 93
        },
        {
          "output_type": "display_data",
          "data": {
            "image/png": "[encoded data removed]",
            "text/plain": [
              "<Figure size 432x288 with 2 Axes>"
            ]
          },
          "metadata": {
            "needs_background": "light"
          }
        }
      ]
    },
    {
      "cell_type": "markdown",
      "source": [
        "We can see that year, odometer, and lat has higher correlation"
      ],
      "metadata": {
        "id": "yTcuSjflRE22"
      }
    },
    {
      "cell_type": "code",
      "source": [
        "# Compare price across the features\n",
        "pd.pivot_table(vehicles, index='price', values=['year', 'odometer', 'lat', 'long'])"
      ],
      "metadata": {
        "colab": {
          "base_uri": "https://localhost:8080/",
          "height": 455
        },
        "id": "KE_Z1vILQ8Pj",
        "outputId": "b85190df-b0cd-4ca9-a5db-2b53d59b0d05"
      },
      "execution_count": 94,
      "outputs": [
        {
          "output_type": "execute_result",
          "data": {
            "text/html": [
              "\n",
              "  <div id=\"df-8b176784-e413-45fe-8897-291c0e1b9700\">\n",
              "    <div class=\"colab-df-container\">\n",
              "      <div>\n",
              "<style scoped>\n",
              "    .dataframe tbody tr th:only-of-type {\n",
              "        vertical-align: middle;\n",
              "    }\n",
              "\n",
              "    .dataframe tbody tr th {\n",
              "        vertical-align: top;\n",
              "    }\n",
              "\n",
              "    .dataframe thead th {\n",
              "        text-align: right;\n",
              "    }\n",
              "</style>\n",
              "<table border=\"1\" class=\"dataframe\">\n",
              "  <thead>\n",
              "    <tr style=\"text-align: right;\">\n",
              "      <th></th>\n",
              "      <th>lat</th>\n",
              "      <th>long</th>\n",
              "      <th>odometer</th>\n",
              "      <th>year</th>\n",
              "    </tr>\n",
              "    <tr>\n",
              "      <th>price</th>\n",
              "      <th></th>\n",
              "      <th></th>\n",
              "      <th></th>\n",
              "      <th></th>\n",
              "    </tr>\n",
              "  </thead>\n",
              "  <tbody>\n",
              "    <tr>\n",
              "      <th>0</th>\n",
              "      <td>34.181595</td>\n",
              "      <td>-85.937619</td>\n",
              "      <td>46397.428571</td>\n",
              "      <td>2013.222222</td>\n",
              "    </tr>\n",
              "    <tr>\n",
              "      <th>1</th>\n",
              "      <td>34.066767</td>\n",
              "      <td>-87.101333</td>\n",
              "      <td>NaN</td>\n",
              "      <td>2009.333333</td>\n",
              "    </tr>\n",
              "    <tr>\n",
              "      <th>4</th>\n",
              "      <td>33.124800</td>\n",
              "      <td>-86.862200</td>\n",
              "      <td>88000.000000</td>\n",
              "      <td>1961.000000</td>\n",
              "    </tr>\n",
              "    <tr>\n",
              "      <th>199</th>\n",
              "      <td>33.481600</td>\n",
              "      <td>-86.859000</td>\n",
              "      <td>NaN</td>\n",
              "      <td>2017.000000</td>\n",
              "    </tr>\n",
              "    <tr>\n",
              "      <th>250</th>\n",
              "      <td>33.588400</td>\n",
              "      <td>-86.959700</td>\n",
              "      <td>NaN</td>\n",
              "      <td>1981.000000</td>\n",
              "    </tr>\n",
              "    <tr>\n",
              "      <th>...</th>\n",
              "      <td>...</td>\n",
              "      <td>...</td>\n",
              "      <td>...</td>\n",
              "      <td>...</td>\n",
              "    </tr>\n",
              "    <tr>\n",
              "      <th>109000</th>\n",
              "      <td>33.653900</td>\n",
              "      <td>-85.838200</td>\n",
              "      <td>NaN</td>\n",
              "      <td>2018.000000</td>\n",
              "    </tr>\n",
              "    <tr>\n",
              "      <th>119900</th>\n",
              "      <td>33.653900</td>\n",
              "      <td>-85.838200</td>\n",
              "      <td>NaN</td>\n",
              "      <td>2019.000000</td>\n",
              "    </tr>\n",
              "    <tr>\n",
              "      <th>123456</th>\n",
              "      <td>36.243300</td>\n",
              "      <td>-94.082700</td>\n",
              "      <td>NaN</td>\n",
              "      <td>1963.000000</td>\n",
              "    </tr>\n",
              "    <tr>\n",
              "      <th>130000</th>\n",
              "      <td>33.633900</td>\n",
              "      <td>-86.598100</td>\n",
              "      <td>1500.000000</td>\n",
              "      <td>2017.000000</td>\n",
              "    </tr>\n",
              "    <tr>\n",
              "      <th>1234567890</th>\n",
              "      <td>33.633900</td>\n",
              "      <td>-86.598100</td>\n",
              "      <td>NaN</td>\n",
              "      <td>1955.000000</td>\n",
              "    </tr>\n",
              "  </tbody>\n",
              "</table>\n",
              "<p>659 rows × 4 columns</p>\n",
              "</div>\n",
              "      <button class=\"colab-df-convert\" onclick=\"convertToInteractive('df-8b176784-e413-45fe-8897-291c0e1b9700')\"\n",
              "              title=\"Convert this dataframe to an interactive table.\"\n",
              "              style=\"display:none;\">\n",
              "        \n",
              "  <svg xmlns=\"http://www.w3.org/2000/svg\" height=\"24px\"viewBox=\"0 0 24 24\"\n",
              "       width=\"24px\">\n",
              "    <path d=\"M0 0h24v24H0V0z\" fill=\"none\"/>\n",
              "    <path d=\"M18.56 5.44l.94 2.06.94-2.06 2.06-.94-2.06-.94-.94-2.06-.94 2.06-2.06.94zm-11 1L8.5 8.5l.94-2.06 2.06-.94-2.06-.94L8.5 2.5l-.94 2.06-2.06.94zm10 10l.94 2.06.94-2.06 2.06-.94-2.06-.94-.94-2.06-.94 2.06-2.06.94z\"/><path d=\"M17.41 7.96l-1.37-1.37c-.4-.4-.92-.59-1.43-.59-.52 0-1.04.2-1.43.59L10.3 9.45l-7.72 7.72c-.78.78-.78 2.05 0 2.83L4 21.41c.39.39.9.59 1.41.59.51 0 1.02-.2 1.41-.59l7.78-7.78 2.81-2.81c.8-.78.8-2.07 0-2.86zM5.41 20L4 18.59l7.72-7.72 1.47 1.35L5.41 20z\"/>\n",
              "  </svg>\n",
              "      </button>\n",
              "      \n",
              "  <style>\n",
              "    .colab-df-container {\n",
              "      display:flex;\n",
              "      flex-wrap:wrap;\n",
              "      gap: 12px;\n",
              "    }\n",
              "\n",
              "    .colab-df-convert {\n",
              "      background-color: #E8F0FE;\n",
              "      border: none;\n",
              "      border-radius: 50%;\n",
              "      cursor: pointer;\n",
              "      display: none;\n",
              "      fill: #1967D2;\n",
              "      height: 32px;\n",
              "      padding: 0 0 0 0;\n",
              "      width: 32px;\n",
              "    }\n",
              "\n",
              "    .colab-df-convert:hover {\n",
              "      background-color: #E2EBFA;\n",
              "      box-shadow: 0px 1px 2px rgba(60, 64, 67, 0.3), 0px 1px 3px 1px rgba(60, 64, 67, 0.15);\n",
              "      fill: #174EA6;\n",
              "    }\n",
              "\n",
              "    [theme=dark] .colab-df-convert {\n",
              "      background-color: #3B4455;\n",
              "      fill: #D2E3FC;\n",
              "    }\n",
              "\n",
              "    [theme=dark] .colab-df-convert:hover {\n",
              "      background-color: #434B5C;\n",
              "      box-shadow: 0px 1px 3px 1px rgba(0, 0, 0, 0.15);\n",
              "      filter: drop-shadow(0px 1px 2px rgba(0, 0, 0, 0.3));\n",
              "      fill: #FFFFFF;\n",
              "    }\n",
              "  </style>\n",
              "\n",
              "      <script>\n",
              "        const buttonEl =\n",
              "          document.querySelector('#df-8b176784-e413-45fe-8897-291c0e1b9700 button.colab-df-convert');\n",
              "        buttonEl.style.display =\n",
              "          google.colab.kernel.accessAllowed ? 'block' : 'none';\n",
              "\n",
              "        async function convertToInteractive(key) {\n",
              "          const element = document.querySelector('#df-8b176784-e413-45fe-8897-291c0e1b9700');\n",
              "          const dataTable =\n",
              "            await google.colab.kernel.invokeFunction('convertToInteractive',\n",
              "                                                     [key], {});\n",
              "          if (!dataTable) return;\n",
              "\n",
              "          const docLinkHtml = 'Like what you see? Visit the ' +\n",
              "            '<a target=\"_blank\" href=https://colab.research.google.com/notebooks/data_table.ipynb>data table notebook</a>'\n",
              "            + ' to learn more about interactive tables.';\n",
              "          element.innerHTML = '';\n",
              "          dataTable['output_type'] = 'display_data';\n",
              "          await google.colab.output.renderOutput(dataTable, element);\n",
              "          const docLink = document.createElement('div');\n",
              "          docLink.innerHTML = docLinkHtml;\n",
              "          element.appendChild(docLink);\n",
              "        }\n",
              "      </script>\n",
              "    </div>\n",
              "  </div>\n",
              "  "
            ],
            "text/plain": [
              "                  lat       long      odometer         year\n",
              "price                                                      \n",
              "0           34.181595 -85.937619  46397.428571  2013.222222\n",
              "1           34.066767 -87.101333           NaN  2009.333333\n",
              "4           33.124800 -86.862200  88000.000000  1961.000000\n",
              "199         33.481600 -86.859000           NaN  2017.000000\n",
              "250         33.588400 -86.959700           NaN  1981.000000\n",
              "...               ...        ...           ...          ...\n",
              "109000      33.653900 -85.838200           NaN  2018.000000\n",
              "119900      33.653900 -85.838200           NaN  2019.000000\n",
              "123456      36.243300 -94.082700           NaN  1963.000000\n",
              "130000      33.633900 -86.598100   1500.000000  2017.000000\n",
              "1234567890  33.633900 -86.598100           NaN  1955.000000\n",
              "\n",
              "[659 rows x 4 columns]"
            ]
          },
          "metadata": {},
          "execution_count": 94
        }
      ]
    },
    {
      "cell_type": "code",
      "source": [
        "# Distribution of categorical features\n",
        "for column in vehicles_cat.columns:\n",
        "  sns.barplot(vehicles_cat[column].value_counts().index, vehicles_cat[column].value_counts()).set_title(column)\n",
        "  plt.show()"
      ],
      "metadata": {
        "colab": {
          "base_uri": "https://localhost:8080/",
          "height": 1000
        },
        "id": "kjOKTm0SRzzc",
        "outputId": "5cdbaa79-869d-434f-a14e-7ca46b6b44fd"
      },
      "execution_count": 95,
      "outputs": [
        {
          "output_type": "stream",
          "name": "stderr",
          "text": [
            "/usr/local/lib/python3.7/dist-packages/seaborn/_decorators.py:43: FutureWarning: Pass the following variables as keyword args: x, y. From version 0.12, the only valid positional argument will be `data`, and passing other arguments without an explicit keyword will result in an error or misinterpretation.\n",
            "  FutureWarning\n"
          ]
        },
        {
          "output_type": "display_data",
          "data": {
            "image/png": "[encoded data removed]",
            "text/plain": [
              "<Figure size 432x288 with 1 Axes>"
            ]
          },
          "metadata": {
            "needs_background": "light"
          }
        },
        {
          "output_type": "stream",
          "name": "stderr",
          "text": [
            "/usr/local/lib/python3.7/dist-packages/seaborn/_decorators.py:43: FutureWarning: Pass the following variables as keyword args: x, y. From version 0.12, the only valid positional argument will be `data`, and passing other arguments without an explicit keyword will result in an error or misinterpretation.\n",
            "  FutureWarning\n"
          ]
        },
        {
          "output_type": "display_data",
          "data": {
            "image/png": "[encoded data removed]",
            "text/plain": [
              "<Figure size 432x288 with 1 Axes>"
            ]
          },
          "metadata": {
            "needs_background": "light"
          }
        },
        {
          "output_type": "stream",
          "name": "stderr",
          "text": [
            "/usr/local/lib/python3.7/dist-packages/seaborn/_decorators.py:43: FutureWarning: Pass the following variables as keyword args: x, y. From version 0.12, the only valid positional argument will be `data`, and passing other arguments without an explicit keyword will result in an error or misinterpretation.\n",
            "  FutureWarning\n"
          ]
        },
        {
          "output_type": "display_data",
          "data": {
            "image/png": "[encoded data removed]",
            "text/plain": [
              "<Figure size 432x288 with 1 Axes>"
            ]
          },
          "metadata": {
            "needs_background": "light"
          }
        },
        {
          "output_type": "stream",
          "name": "stderr",
          "text": [
            "/usr/local/lib/python3.7/dist-packages/seaborn/_decorators.py:43: FutureWarning: Pass the following variables as keyword args: x, y. From version 0.12, the only valid positional argument will be `data`, and passing other arguments without an explicit keyword will result in an error or misinterpretation.\n",
            "  FutureWarning\n"
          ]
        },
        {
          "output_type": "display_data",
          "data": {
            "image/png": "[encoded data removed]",
            "text/plain": [
              "<Figure size 432x288 with 1 Axes>"
            ]
          },
          "metadata": {
            "needs_background": "light"
          }
        },
        {
          "output_type": "stream",
          "name": "stderr",
          "text": [
            "/usr/local/lib/python3.7/dist-packages/seaborn/_decorators.py:43: FutureWarning: Pass the following variables as keyword args: x, y. From version 0.12, the only valid positional argument will be `data`, and passing other arguments without an explicit keyword will result in an error or misinterpretation.\n",
            "  FutureWarning\n"
          ]
        },
        {
          "output_type": "display_data",
          "data": {
            "image/png": "[encoded data removed]",
            "text/plain": [
              "<Figure size 432x288 with 1 Axes>"
            ]
          },
          "metadata": {
            "needs_background": "light"
          }
        },
        {
          "output_type": "stream",
          "name": "stderr",
          "text": [
            "/usr/local/lib/python3.7/dist-packages/seaborn/_decorators.py:43: FutureWarning: Pass the following variables as keyword args: x, y. From version 0.12, the only valid positional argument will be `data`, and passing other arguments without an explicit keyword will result in an error or misinterpretation.\n",
            "  FutureWarning\n"
          ]
        },
        {
          "output_type": "display_data",
          "data": {
            "image/png": "[encoded data removed]",
            "text/plain": [
              "<Figure size 432x288 with 1 Axes>"
            ]
          },
          "metadata": {
            "needs_background": "light"
          }
        },
        {
          "output_type": "stream",
          "name": "stderr",
          "text": [
            "/usr/local/lib/python3.7/dist-packages/seaborn/_decorators.py:43: FutureWarning: Pass the following variables as keyword args: x, y. From version 0.12, the only valid positional argument will be `data`, and passing other arguments without an explicit keyword will result in an error or misinterpretation.\n",
            "  FutureWarning\n"
          ]
        },
        {
          "output_type": "display_data",
          "data": {
            "image/png": "[encoded data removed]",
            "text/plain": [
              "<Figure size 432x288 with 1 Axes>"
            ]
          },
          "metadata": {
            "needs_background": "light"
          }
        },
        {
          "output_type": "stream",
          "name": "stderr",
          "text": [
            "/usr/local/lib/python3.7/dist-packages/seaborn/_decorators.py:43: FutureWarning: Pass the following variables as keyword args: x, y. From version 0.12, the only valid positional argument will be `data`, and passing other arguments without an explicit keyword will result in an error or misinterpretation.\n",
            "  FutureWarning\n"
          ]
        },
        {
          "output_type": "display_data",
          "data": {
            "image/png": "[encoded data removed]",
            "text/plain": [
              "<Figure size 432x288 with 1 Axes>"
            ]
          },
          "metadata": {
            "needs_background": "light"
          }
        },
        {
          "output_type": "stream",
          "name": "stderr",
          "text": [
            "/usr/local/lib/python3.7/dist-packages/seaborn/_decorators.py:43: FutureWarning: Pass the following variables as keyword args: x, y. From version 0.12, the only valid positional argument will be `data`, and passing other arguments without an explicit keyword will result in an error or misinterpretation.\n",
            "  FutureWarning\n"
          ]
        },
        {
          "output_type": "display_data",
          "data": {
            "image/png": "[encoded data removed]",
            "text/plain": [
              "<Figure size 432x288 with 1 Axes>"
            ]
          },
          "metadata": {
            "needs_background": "light"
          }
        },
        {
          "output_type": "stream",
          "name": "stderr",
          "text": [
            "/usr/local/lib/python3.7/dist-packages/seaborn/_decorators.py:43: FutureWarning: Pass the following variables as keyword args: x, y. From version 0.12, the only valid positional argument will be `data`, and passing other arguments without an explicit keyword will result in an error or misinterpretation.\n",
            "  FutureWarning\n"
          ]
        },
        {
          "output_type": "display_data",
          "data": {
            "image/png": "[encoded data removed]",
            "text/plain": [
              "<Figure size 432x288 with 1 Axes>"
            ]
          },
          "metadata": {
            "needs_background": "light"
          }
        },
        {
          "output_type": "stream",
          "name": "stderr",
          "text": [
            "/usr/local/lib/python3.7/dist-packages/seaborn/_decorators.py:43: FutureWarning: Pass the following variables as keyword args: x, y. From version 0.12, the only valid positional argument will be `data`, and passing other arguments without an explicit keyword will result in an error or misinterpretation.\n",
            "  FutureWarning\n"
          ]
        },
        {
          "output_type": "display_data",
          "data": {
            "image/png": "[encoded data removed]",
            "text/plain": [
              "<Figure size 432x288 with 1 Axes>"
            ]
          },
          "metadata": {
            "needs_background": "light"
          }
        },
        {
          "output_type": "stream",
          "name": "stderr",
          "text": [
            "/usr/local/lib/python3.7/dist-packages/seaborn/_decorators.py:43: FutureWarning: Pass the following variables as keyword args: x, y. From version 0.12, the only valid positional argument will be `data`, and passing other arguments without an explicit keyword will result in an error or misinterpretation.\n",
            "  FutureWarning\n"
          ]
        },
        {
          "output_type": "display_data",
          "data": {
            "image/png": "[encoded data removed]",
            "text/plain": [
              "<Figure size 432x288 with 1 Axes>"
            ]
          },
          "metadata": {
            "needs_background": "light"
          }
        },
        {
          "output_type": "stream",
          "name": "stderr",
          "text": [
            "/usr/local/lib/python3.7/dist-packages/seaborn/_decorators.py:43: FutureWarning: Pass the following variables as keyword args: x, y. From version 0.12, the only valid positional argument will be `data`, and passing other arguments without an explicit keyword will result in an error or misinterpretation.\n",
            "  FutureWarning\n"
          ]
        },
        {
          "output_type": "display_data",
          "data": {
            "image/png": "[encoded data removed]",
            "text/plain": [
              "<Figure size 432x288 with 1 Axes>"
            ]
          },
          "metadata": {
            "needs_background": "light"
          }
        },
        {
          "output_type": "stream",
          "name": "stderr",
          "text": [
            "/usr/local/lib/python3.7/dist-packages/seaborn/_decorators.py:43: FutureWarning: Pass the following variables as keyword args: x, y. From version 0.12, the only valid positional argument will be `data`, and passing other arguments without an explicit keyword will result in an error or misinterpretation.\n",
            "  FutureWarning\n"
          ]
        },
        {
          "output_type": "display_data",
          "data": {
            "image/png": "[encoded data removed]",
            "text/plain": [
              "<Figure size 432x288 with 1 Axes>"
            ]
          },
          "metadata": {
            "needs_background": "light"
          }
        }
      ]
    },
    {
      "cell_type": "markdown",
      "source": [
        "## Feature Engineering"
      ],
      "metadata": {
        "id": "mKawwU-aUa-d"
      }
    },
    {
      "cell_type": "code",
      "source": [
        "vehicles_cat.type\n",
        "vehicles['type_multiple'] = vehicles.type.apply(lambda x: 0 if pd.isna(x) else x)\n",
        "vehicles['type_multiple'].value_counts()"
      ],
      "metadata": {
        "colab": {
          "base_uri": "https://localhost:8080/"
        },
        "id": "oNM-cOEUSX6B",
        "outputId": "a55aeced-23ab-4e6a-d282-3fe901ff11dc"
      },
      "execution_count": 96,
      "outputs": [
        {
          "output_type": "execute_result",
          "data": {
            "text/plain": [
              "0              711\n",
              "sedan          309\n",
              "SUV            307\n",
              "truck          192\n",
              "pickup         155\n",
              "coupe           76\n",
              "other           58\n",
              "van             51\n",
              "convertible     39\n",
              "hatchback       39\n",
              "mini-van        22\n",
              "wagon           20\n",
              "bus             15\n",
              "offroad          5\n",
              "Name: type_multiple, dtype: int64"
            ]
          },
          "metadata": {},
          "execution_count": 96
        }
      ]
    },
    {
      "cell_type": "markdown",
      "source": [
        "We can see that there are 711 null values for type"
      ],
      "metadata": {
        "id": "Ku3SClIHVec5"
      }
    },
    {
      "cell_type": "code",
      "source": [
        "vehicles_cat.model\n",
        "vehicles['model_multiple'] = vehicles.model.apply(lambda x: 0 if pd.isna(x) else x)\n",
        "vehicles['model_multiple'].value_counts()"
      ],
      "metadata": {
        "colab": {
          "base_uri": "https://localhost:8080/"
        },
        "id": "4hj2d6uzWD5K",
        "outputId": "a1c4b277-ff61-4cd2-b303-017579c24139"
      },
      "execution_count": 97,
      "outputs": [
        {
          "output_type": "execute_result",
          "data": {
            "text/plain": [
              "wrangler                  43\n",
              "altima                    40\n",
              "f-150                     23\n",
              "camry                     22\n",
              "silverado 1500            20\n",
              "                          ..\n",
              "gold tdi                   1\n",
              "raider                     1\n",
              "500 l                      1\n",
              "express 1500 cargo van     1\n",
              "Hino 268                   1\n",
              "Name: model_multiple, Length: 822, dtype: int64"
            ]
          },
          "metadata": {},
          "execution_count": 97
        }
      ]
    },
    {
      "cell_type": "code",
      "source": [
        "vehicles_cat.manufacturer\n",
        "vehicles['manufacturer_multiple'] = vehicles.manufacturer.apply(lambda x: 0 if pd.isna(x) else x)\n",
        "vehicles['manufacturer_multiple'].value_counts()"
      ],
      "metadata": {
        "colab": {
          "base_uri": "https://localhost:8080/"
        },
        "id": "29fKs7EhWUKx",
        "outputId": "d210bfef-104a-4312-efe3-67e16f8b32c8"
      },
      "execution_count": 98,
      "outputs": [
        {
          "output_type": "execute_result",
          "data": {
            "text/plain": [
              "ford             391\n",
              "chevrolet        287\n",
              "toyota           163\n",
              "nissan           143\n",
              "jeep             137\n",
              "0                129\n",
              "honda            104\n",
              "ram               68\n",
              "dodge             66\n",
              "gmc               63\n",
              "hyundai           42\n",
              "bmw               36\n",
              "lexus             35\n",
              "mazda             34\n",
              "volkswagen        34\n",
              "kia               30\n",
              "buick             29\n",
              "cadillac          29\n",
              "mercedes-benz     29\n",
              "infiniti          23\n",
              "chrysler          20\n",
              "lincoln           14\n",
              "pontiac           12\n",
              "mini              11\n",
              "subaru            10\n",
              "acura             10\n",
              "audi               8\n",
              "mitsubishi         7\n",
              "mercury            6\n",
              "fiat               6\n",
              "tesla              5\n",
              "volvo              5\n",
              "rover              5\n",
              "saturn             4\n",
              "porsche            2\n",
              "datsun             2\n",
              "Name: manufacturer_multiple, dtype: int64"
            ]
          },
          "metadata": {},
          "execution_count": 98
        }
      ]
    },
    {
      "cell_type": "markdown",
      "source": [
        "There are 129 null values for manufacturer"
      ],
      "metadata": {
        "id": "-gPs5gzZWc6q"
      }
    },
    {
      "cell_type": "code",
      "source": [
        "vehicles_cat.posting_date\n",
        "vehicles['posting_date_multiple'] = vehicles.posting_date.apply(lambda x: 0 if pd.isna(x) else x)\n",
        "vehicles['posting_date_multiple'].value_counts()"
      ],
      "metadata": {
        "colab": {
          "base_uri": "https://localhost:8080/"
        },
        "id": "id9WZMnRWgTf",
        "outputId": "21bbff7c-5c40-4163-c6e7-ab1b2edeeafb"
      },
      "execution_count": 99,
      "outputs": [
        {
          "output_type": "execute_result",
          "data": {
            "text/plain": [
              "2020-11-12T08:55:27-0600    3\n",
              "2020-11-09T08:49:25-0600    3\n",
              "2020-12-01T17:18:40-0600    2\n",
              "2020-12-01T17:18:29-0600    2\n",
              "2020-11-14T14:16:49-0600    2\n",
              "                           ..\n",
              "2020-11-16T09:45:49-0600    1\n",
              "2020-11-25T08:32:38-0600    1\n",
              "2020-11-22T10:43:31-0600    1\n",
              "2020-11-29T15:44:44-0600    1\n",
              "2020-12-01T14:59:32-0600    1\n",
              "Name: posting_date_multiple, Length: 1976, dtype: int64"
            ]
          },
          "metadata": {},
          "execution_count": 99
        }
      ]
    },
    {
      "cell_type": "markdown",
      "source": [
        "## Data Preprocessing for Model\n",
        "\n",
        "1. Drop null values for columns in small null value quantities\n",
        "2. Determine relevant features\n",
        "3. Do categorical transforms on all data\n",
        "4. Impute missing data for numerical variables\n",
        "5. Normalize columns with extreme skewness using logarithm\n",
        "6. Scale numerical variables"
      ],
      "metadata": {
        "id": "dtToCA7fYlJE"
      }
    },
    {
      "cell_type": "code",
      "source": [
        "# Drop null values\n",
        "null_to_delete = ['year', 'manufacturer', 'model', 'fuel', 'lat', 'long']\n",
        "\n",
        "for item in null_to_delete:\n",
        "  vehicles.dropna(subset=[item], inplace=True)\n",
        "\n",
        "vehicles.info()"
      ],
      "metadata": {
        "colab": {
          "base_uri": "https://localhost:8080/"
        },
        "id": "gGmkHoMSaKPA",
        "outputId": "5db0cd00-5630-425c-98d5-ac5941e40c62"
      },
      "execution_count": 100,
      "outputs": [
        {
          "output_type": "stream",
          "name": "stdout",
          "text": [
            "<class 'pandas.core.frame.DataFrame'>\n",
            "Int64Index: 1833 entries, 0 to 1997\n",
            "Data columns (total 26 columns):\n",
            " #   Column                 Non-Null Count  Dtype  \n",
            "---  ------                 --------------  -----  \n",
            " 0   id                     1833 non-null   int64  \n",
            " 1   region                 1833 non-null   object \n",
            " 2   price                  1833 non-null   int64  \n",
            " 3   year                   1833 non-null   float64\n",
            " 4   manufacturer           1833 non-null   object \n",
            " 5   model                  1833 non-null   object \n",
            " 6   condition              976 non-null    object \n",
            " 7   cylinders              1163 non-null   object \n",
            " 8   fuel                   1833 non-null   object \n",
            " 9   odometer               1480 non-null   float64\n",
            " 10  title_status           1756 non-null   object \n",
            " 11  transmission           1833 non-null   object \n",
            " 12  VIN                    1114 non-null   object \n",
            " 13  drive                  1284 non-null   object \n",
            " 14  size                   502 non-null    object \n",
            " 15  type                   1173 non-null   object \n",
            " 16  paint_color            1410 non-null   object \n",
            " 17  description            1833 non-null   object \n",
            " 18  state                  1833 non-null   object \n",
            " 19  lat                    1833 non-null   float64\n",
            " 20  long                   1833 non-null   float64\n",
            " 21  posting_date           1833 non-null   object \n",
            " 22  type_multiple          1833 non-null   object \n",
            " 23  model_multiple         1833 non-null   object \n",
            " 24  manufacturer_multiple  1833 non-null   object \n",
            " 25  posting_date_multiple  1833 non-null   object \n",
            "dtypes: float64(4), int64(2), object(20)\n",
            "memory usage: 386.6+ KB\n"
          ]
        }
      ]
    },
    {
      "cell_type": "code",
      "source": [
        "# Drop irrelevant columns\n",
        "drop_columns = ['VIN', 'description', 'state', 'size']\n",
        "for item in drop_columns:\n",
        "  vehicles.drop(columns=item, inplace=True)"
      ],
      "metadata": {
        "id": "jqZck62Aa04s"
      },
      "execution_count": 101,
      "outputs": []
    },
    {
      "cell_type": "code",
      "source": [
        "# Impute continuous variables\n",
        "vehicles.odometer = vehicles.odometer.fillna(vehicles.odometer.median())\n",
        "\n",
        "# Impute categorical variables\n",
        "#vehicles.type = vehicles.type.fillna('sedan', inplace=True)\n",
        "#vehicles.cylinders = vehicles.cylinders.fillna('other', inplace=True)\n",
        "#vehicles.title_status = vehicles.title_status.fillna('rebuilt', inplace=True)\n",
        "#vehicles.drive = vehicles.drive.fillna('fwd', inplace=True)\n",
        "#vehicles.paint_color = vehicles.paint_color.fillna('white', inplace=True)\n",
        "\n",
        "vehicles = vehicles.fillna(value={'type': 'sedan', 'cylinders': 'other', 'title_status': 'rebuilt', 'drive': 'fwd', \n",
        "                                  'paint_color': 'white'})\n",
        "\n",
        "# Logarithmic normalization\n",
        "vehicles['norm_odometer'] = np.log(vehicles.odometer + 1)\n",
        "vehicles['norm_odometer'].hist()\n",
        "\n",
        "vehicles['norm_lat'] = np.log(vehicles.lat + 1)\n",
        "vehicles['norm_lat'].hist()\n",
        "\n",
        "vehicles['norm_long'] = np.log(vehicles.long + 1)\n",
        "vehicles['norm_long'].hist()\n",
        "\n",
        "plt.show()"
      ],
      "metadata": {
        "colab": {
          "base_uri": "https://localhost:8080/",
          "height": 300
        },
        "id": "SgsS1bw2b5sr",
        "outputId": "e288e02d-9179-4cc6-ae8c-f268f20b5684"
      },
      "execution_count": 112,
      "outputs": [
        {
          "output_type": "stream",
          "name": "stderr",
          "text": [
            "/usr/local/lib/python3.7/dist-packages/pandas/core/series.py:726: RuntimeWarning: invalid value encountered in log\n",
            "  result = getattr(ufunc, method)(*inputs, **kwargs)\n"
          ]
        },
        {
          "output_type": "display_data",
          "data": {
            "image/png": "[encoded data removed]",
            "text/plain": [
              "<Figure size 432x288 with 1 Axes>"
            ]
          },
          "metadata": {
            "needs_background": "light"
          }
        }
      ]
    },
    {
      "cell_type": "code",
      "source": [
        "vehicles.head()"
      ],
      "metadata": {
        "colab": {
          "base_uri": "https://localhost:8080/",
          "height": 444
        },
        "id": "v546nGSngcX-",
        "outputId": "f26e1059-7b28-4079-85da-6114e870237f"
      },
      "execution_count": 113,
      "outputs": [
        {
          "output_type": "execute_result",
          "data": {
            "text/html": [
              "\n",
              "  <div id=\"df-03a0a59d-ca0c-4bd9-b85c-6602fdee65b8\">\n",
              "    <div class=\"colab-df-container\">\n",
              "      <div>\n",
              "<style scoped>\n",
              "    .dataframe tbody tr th:only-of-type {\n",
              "        vertical-align: middle;\n",
              "    }\n",
              "\n",
              "    .dataframe tbody tr th {\n",
              "        vertical-align: top;\n",
              "    }\n",
              "\n",
              "    .dataframe thead th {\n",
              "        text-align: right;\n",
              "    }\n",
              "</style>\n",
              "<table border=\"1\" class=\"dataframe\">\n",
              "  <thead>\n",
              "    <tr style=\"text-align: right;\">\n",
              "      <th></th>\n",
              "      <th>id</th>\n",
              "      <th>region</th>\n",
              "      <th>price</th>\n",
              "      <th>year</th>\n",
              "      <th>manufacturer</th>\n",
              "      <th>model</th>\n",
              "      <th>condition</th>\n",
              "      <th>cylinders</th>\n",
              "      <th>fuel</th>\n",
              "      <th>odometer</th>\n",
              "      <th>title_status</th>\n",
              "      <th>transmission</th>\n",
              "      <th>drive</th>\n",
              "      <th>type</th>\n",
              "      <th>paint_color</th>\n",
              "      <th>lat</th>\n",
              "      <th>long</th>\n",
              "      <th>posting_date</th>\n",
              "      <th>type_multiple</th>\n",
              "      <th>model_multiple</th>\n",
              "      <th>manufacturer_multiple</th>\n",
              "      <th>posting_date_multiple</th>\n",
              "      <th>norm_odometer</th>\n",
              "      <th>norm_lat</th>\n",
              "      <th>norm_long</th>\n",
              "    </tr>\n",
              "  </thead>\n",
              "  <tbody>\n",
              "    <tr>\n",
              "      <th>0</th>\n",
              "      <td>7240372487</td>\n",
              "      <td>auburn</td>\n",
              "      <td>35990</td>\n",
              "      <td>2010.0</td>\n",
              "      <td>chevrolet</td>\n",
              "      <td>corvette grand sport</td>\n",
              "      <td>good</td>\n",
              "      <td>other</td>\n",
              "      <td>gas</td>\n",
              "      <td>32742.0</td>\n",
              "      <td>rebuilt</td>\n",
              "      <td>other</td>\n",
              "      <td>fwd</td>\n",
              "      <td>sedan</td>\n",
              "      <td>white</td>\n",
              "      <td>32.590000</td>\n",
              "      <td>-85.480000</td>\n",
              "      <td>2020-12-02T08:11:30-0600</td>\n",
              "      <td>other</td>\n",
              "      <td>corvette grand sport</td>\n",
              "      <td>chevrolet</td>\n",
              "      <td>2020-12-02T08:11:30-0600</td>\n",
              "      <td>10.396444</td>\n",
              "      <td>3.514228</td>\n",
              "      <td>NaN</td>\n",
              "    </tr>\n",
              "    <tr>\n",
              "      <th>1</th>\n",
              "      <td>7240309422</td>\n",
              "      <td>auburn</td>\n",
              "      <td>7500</td>\n",
              "      <td>2014.0</td>\n",
              "      <td>hyundai</td>\n",
              "      <td>sonata</td>\n",
              "      <td>excellent</td>\n",
              "      <td>other</td>\n",
              "      <td>gas</td>\n",
              "      <td>93600.0</td>\n",
              "      <td>rebuilt</td>\n",
              "      <td>automatic</td>\n",
              "      <td>fwd</td>\n",
              "      <td>sedan</td>\n",
              "      <td>white</td>\n",
              "      <td>32.547500</td>\n",
              "      <td>-85.468200</td>\n",
              "      <td>2020-12-02T02:11:50-0600</td>\n",
              "      <td>sedan</td>\n",
              "      <td>sonata</td>\n",
              "      <td>hyundai</td>\n",
              "      <td>2020-12-02T02:11:50-0600</td>\n",
              "      <td>11.446796</td>\n",
              "      <td>3.512962</td>\n",
              "      <td>NaN</td>\n",
              "    </tr>\n",
              "    <tr>\n",
              "      <th>2</th>\n",
              "      <td>7240224296</td>\n",
              "      <td>auburn</td>\n",
              "      <td>4900</td>\n",
              "      <td>2006.0</td>\n",
              "      <td>bmw</td>\n",
              "      <td>x3 3.0i</td>\n",
              "      <td>good</td>\n",
              "      <td>other</td>\n",
              "      <td>gas</td>\n",
              "      <td>87046.0</td>\n",
              "      <td>rebuilt</td>\n",
              "      <td>automatic</td>\n",
              "      <td>fwd</td>\n",
              "      <td>sedan</td>\n",
              "      <td>white</td>\n",
              "      <td>32.616807</td>\n",
              "      <td>-85.464149</td>\n",
              "      <td>2020-12-01T19:50:41-0600</td>\n",
              "      <td>SUV</td>\n",
              "      <td>x3 3.0i</td>\n",
              "      <td>bmw</td>\n",
              "      <td>2020-12-01T19:50:41-0600</td>\n",
              "      <td>11.374203</td>\n",
              "      <td>3.515026</td>\n",
              "      <td>NaN</td>\n",
              "    </tr>\n",
              "    <tr>\n",
              "      <th>3</th>\n",
              "      <td>7240103965</td>\n",
              "      <td>auburn</td>\n",
              "      <td>2000</td>\n",
              "      <td>1974.0</td>\n",
              "      <td>chevrolet</td>\n",
              "      <td>c-10</td>\n",
              "      <td>good</td>\n",
              "      <td>other</td>\n",
              "      <td>gas</td>\n",
              "      <td>190000.0</td>\n",
              "      <td>rebuilt</td>\n",
              "      <td>automatic</td>\n",
              "      <td>fwd</td>\n",
              "      <td>sedan</td>\n",
              "      <td>white</td>\n",
              "      <td>32.861600</td>\n",
              "      <td>-85.216100</td>\n",
              "      <td>2020-12-01T15:54:45-0600</td>\n",
              "      <td>pickup</td>\n",
              "      <td>c-10</td>\n",
              "      <td>chevrolet</td>\n",
              "      <td>2020-12-01T15:54:45-0600</td>\n",
              "      <td>12.154785</td>\n",
              "      <td>3.522282</td>\n",
              "      <td>NaN</td>\n",
              "    </tr>\n",
              "    <tr>\n",
              "      <th>4</th>\n",
              "      <td>7239983776</td>\n",
              "      <td>auburn</td>\n",
              "      <td>19500</td>\n",
              "      <td>2005.0</td>\n",
              "      <td>ford</td>\n",
              "      <td>f350 lariat</td>\n",
              "      <td>excellent</td>\n",
              "      <td>other</td>\n",
              "      <td>diesel</td>\n",
              "      <td>116000.0</td>\n",
              "      <td>rebuilt</td>\n",
              "      <td>automatic</td>\n",
              "      <td>fwd</td>\n",
              "      <td>sedan</td>\n",
              "      <td>white</td>\n",
              "      <td>32.547500</td>\n",
              "      <td>-85.468200</td>\n",
              "      <td>2020-12-01T12:53:56-0600</td>\n",
              "      <td>pickup</td>\n",
              "      <td>f350 lariat</td>\n",
              "      <td>ford</td>\n",
              "      <td>2020-12-01T12:53:56-0600</td>\n",
              "      <td>11.661354</td>\n",
              "      <td>3.512962</td>\n",
              "      <td>NaN</td>\n",
              "    </tr>\n",
              "  </tbody>\n",
              "</table>\n",
              "</div>\n",
              "      <button class=\"colab-df-convert\" onclick=\"convertToInteractive('df-03a0a59d-ca0c-4bd9-b85c-6602fdee65b8')\"\n",
              "              title=\"Convert this dataframe to an interactive table.\"\n",
              "              style=\"display:none;\">\n",
              "        \n",
              "  <svg xmlns=\"http://www.w3.org/2000/svg\" height=\"24px\"viewBox=\"0 0 24 24\"\n",
              "       width=\"24px\">\n",
              "    <path d=\"M0 0h24v24H0V0z\" fill=\"none\"/>\n",
              "    <path d=\"M18.56 5.44l.94 2.06.94-2.06 2.06-.94-2.06-.94-.94-2.06-.94 2.06-2.06.94zm-11 1L8.5 8.5l.94-2.06 2.06-.94-2.06-.94L8.5 2.5l-.94 2.06-2.06.94zm10 10l.94 2.06.94-2.06 2.06-.94-2.06-.94-.94-2.06-.94 2.06-2.06.94z\"/><path d=\"M17.41 7.96l-1.37-1.37c-.4-.4-.92-.59-1.43-.59-.52 0-1.04.2-1.43.59L10.3 9.45l-7.72 7.72c-.78.78-.78 2.05 0 2.83L4 21.41c.39.39.9.59 1.41.59.51 0 1.02-.2 1.41-.59l7.78-7.78 2.81-2.81c.8-.78.8-2.07 0-2.86zM5.41 20L4 18.59l7.72-7.72 1.47 1.35L5.41 20z\"/>\n",
              "  </svg>\n",
              "      </button>\n",
              "      \n",
              "  <style>\n",
              "    .colab-df-container {\n",
              "      display:flex;\n",
              "      flex-wrap:wrap;\n",
              "      gap: 12px;\n",
              "    }\n",
              "\n",
              "    .colab-df-convert {\n",
              "      background-color: #E8F0FE;\n",
              "      border: none;\n",
              "      border-radius: 50%;\n",
              "      cursor: pointer;\n",
              "      display: none;\n",
              "      fill: #1967D2;\n",
              "      height: 32px;\n",
              "      padding: 0 0 0 0;\n",
              "      width: 32px;\n",
              "    }\n",
              "\n",
              "    .colab-df-convert:hover {\n",
              "      background-color: #E2EBFA;\n",
              "      box-shadow: 0px 1px 2px rgba(60, 64, 67, 0.3), 0px 1px 3px 1px rgba(60, 64, 67, 0.15);\n",
              "      fill: #174EA6;\n",
              "    }\n",
              "\n",
              "    [theme=dark] .colab-df-convert {\n",
              "      background-color: #3B4455;\n",
              "      fill: #D2E3FC;\n",
              "    }\n",
              "\n",
              "    [theme=dark] .colab-df-convert:hover {\n",
              "      background-color: #434B5C;\n",
              "      box-shadow: 0px 1px 3px 1px rgba(0, 0, 0, 0.15);\n",
              "      filter: drop-shadow(0px 1px 2px rgba(0, 0, 0, 0.3));\n",
              "      fill: #FFFFFF;\n",
              "    }\n",
              "  </style>\n",
              "\n",
              "      <script>\n",
              "        const buttonEl =\n",
              "          document.querySelector('#df-03a0a59d-ca0c-4bd9-b85c-6602fdee65b8 button.colab-df-convert');\n",
              "        buttonEl.style.display =\n",
              "          google.colab.kernel.accessAllowed ? 'block' : 'none';\n",
              "\n",
              "        async function convertToInteractive(key) {\n",
              "          const element = document.querySelector('#df-03a0a59d-ca0c-4bd9-b85c-6602fdee65b8');\n",
              "          const dataTable =\n",
              "            await google.colab.kernel.invokeFunction('convertToInteractive',\n",
              "                                                     [key], {});\n",
              "          if (!dataTable) return;\n",
              "\n",
              "          const docLinkHtml = 'Like what you see? Visit the ' +\n",
              "            '<a target=\"_blank\" href=https://colab.research.google.com/notebooks/data_table.ipynb>data table notebook</a>'\n",
              "            + ' to learn more about interactive tables.';\n",
              "          element.innerHTML = '';\n",
              "          dataTable['output_type'] = 'display_data';\n",
              "          await google.colab.output.renderOutput(dataTable, element);\n",
              "          const docLink = document.createElement('div');\n",
              "          docLink.innerHTML = docLinkHtml;\n",
              "          element.appendChild(docLink);\n",
              "        }\n",
              "      </script>\n",
              "    </div>\n",
              "  </div>\n",
              "  "
            ],
            "text/plain": [
              "           id  region  price  ...  norm_odometer  norm_lat norm_long\n",
              "0  7240372487  auburn  35990  ...      10.396444  3.514228       NaN\n",
              "1  7240309422  auburn   7500  ...      11.446796  3.512962       NaN\n",
              "2  7240224296  auburn   4900  ...      11.374203  3.515026       NaN\n",
              "3  7240103965  auburn   2000  ...      12.154785  3.522282       NaN\n",
              "4  7239983776  auburn  19500  ...      11.661354  3.512962       NaN\n",
              "\n",
              "[5 rows x 25 columns]"
            ]
          },
          "metadata": {},
          "execution_count": 113
        }
      ]
    },
    {
      "cell_type": "code",
      "source": [
        "vehicles.info()"
      ],
      "metadata": {
        "colab": {
          "base_uri": "https://localhost:8080/"
        },
        "id": "CdUY0bOIgysm",
        "outputId": "c9375b0f-ab54-4846-b26e-95e79e463b5b"
      },
      "execution_count": 114,
      "outputs": [
        {
          "output_type": "stream",
          "name": "stdout",
          "text": [
            "<class 'pandas.core.frame.DataFrame'>\n",
            "Int64Index: 1833 entries, 0 to 1997\n",
            "Data columns (total 25 columns):\n",
            " #   Column                 Non-Null Count  Dtype  \n",
            "---  ------                 --------------  -----  \n",
            " 0   id                     1833 non-null   int64  \n",
            " 1   region                 1833 non-null   object \n",
            " 2   price                  1833 non-null   int64  \n",
            " 3   year                   1833 non-null   float64\n",
            " 4   manufacturer           1833 non-null   object \n",
            " 5   model                  1833 non-null   object \n",
            " 6   condition              976 non-null    object \n",
            " 7   cylinders              1833 non-null   object \n",
            " 8   fuel                   1833 non-null   object \n",
            " 9   odometer               1833 non-null   float64\n",
            " 10  title_status           1833 non-null   object \n",
            " 11  transmission           1833 non-null   object \n",
            " 12  drive                  1833 non-null   object \n",
            " 13  type                   1833 non-null   object \n",
            " 14  paint_color            1833 non-null   object \n",
            " 15  lat                    1833 non-null   float64\n",
            " 16  long                   1833 non-null   float64\n",
            " 17  posting_date           1833 non-null   object \n",
            " 18  type_multiple          1833 non-null   object \n",
            " 19  model_multiple         1833 non-null   object \n",
            " 20  manufacturer_multiple  1833 non-null   object \n",
            " 21  posting_date_multiple  1833 non-null   object \n",
            " 22  norm_odometer          1833 non-null   float64\n",
            " 23  norm_lat               1833 non-null   float64\n",
            " 24  norm_long              0 non-null      float64\n",
            "dtypes: float64(7), int64(2), object(16)\n",
            "memory usage: 372.3+ KB\n"
          ]
        }
      ]
    },
    {
      "cell_type": "code",
      "source": [
        "# Set X and y\n",
        "X = vehicles.drop(columns=['id', 'condition', 'type_multiple', 'model_multiple', 'manufacturer_multiple', \n",
        "                  'posting_date_multiple', 'lat', 'long', 'odometer'])\n",
        "\n",
        "y = vehicles['price']"
      ],
      "metadata": {
        "id": "QYJx8VzDemWG"
      },
      "execution_count": 116,
      "outputs": []
    },
    {
      "cell_type": "code",
      "source": [
        "# Split the data\n",
        "X_train, X_test, y_train, y_test = train_test_split(X, y, random_state=101)"
      ],
      "metadata": {
        "id": "AxgWP7h5mUQK"
      },
      "execution_count": 119,
      "outputs": []
    },
    {
      "cell_type": "code",
      "source": [
        "# Select columns\n",
        "cat_selector = make_column_selector(dtype_include='object')\n",
        "num_selector = make_column_selector(dtype_include='number')\n",
        "\n",
        "cat_columns_train = cat_selector(X_train)\n",
        "cat_columns_test = cat_selector(X_test)\n",
        "num_columns_train = num_selector(X_train)\n",
        "num_columns_test = num_selector(X_test)\n",
        "\n",
        "cat_data_train = X_train[cat_columns_train]\n",
        "cat_data_test = X_test[cat_columns_test]\n",
        "num_data_train = X_train[num_columns_train]\n",
        "num_data_test = X_test[num_columns_test]"
      ],
      "metadata": {
        "id": "GLZUPQ-8l4Ea"
      },
      "execution_count": 120,
      "outputs": []
    },
    {
      "cell_type": "code",
      "source": [
        "# Instantiate OneHotEncoder\n",
        "ohe = OneHotEncoder(sparse=False, handle_unknown='ignore')\n",
        "\n",
        "# Fit the categorical values to the ohe\n",
        "ohe_train = ohe.fit_transform(cat_data_train)\n",
        "ohe_test = ohe.transform(cat_data_test)\n",
        "\n",
        "# Instantiate Standard Scaler\n",
        "scaler = StandardScaler()\n",
        "\n",
        "# Fit the scaler\n",
        "train_scale = scaler.fit_transform(num_data_train)\n",
        "test_scale = scaler.transform(num_data_test)"
      ],
      "metadata": {
        "colab": {
          "base_uri": "https://localhost:8080/"
        },
        "id": "_toiHQkTmSFV",
        "outputId": "2c6815e3-658a-4e25-d949-f3631e097f5c"
      },
      "execution_count": 122,
      "outputs": [
        {
          "output_type": "stream",
          "name": "stderr",
          "text": [
            "/usr/local/lib/python3.7/dist-packages/sklearn/utils/extmath.py:985: RuntimeWarning: invalid value encountered in true_divide\n",
            "  updated_mean = (last_sum + new_sum) / updated_sample_count\n",
            "/usr/local/lib/python3.7/dist-packages/sklearn/utils/extmath.py:990: RuntimeWarning: invalid value encountered in true_divide\n",
            "  T = new_sum / new_sample_count\n",
            "/usr/local/lib/python3.7/dist-packages/sklearn/utils/extmath.py:1020: RuntimeWarning: invalid value encountered in true_divide\n",
            "  new_unnormalized_variance -= correction ** 2 / new_sample_count\n"
          ]
        }
      ]
    },
    {
      "cell_type": "code",
      "source": [
        "# Make a pipeline\n",
        "pipe = Pipeline(\n",
        "    steps=(['OneHotEncoder', ohe], ['Standard Scaler', scaler])\n",
        ")\n",
        "\n",
        "# Make a column transformer\n",
        "preprocessor = ColumnTransformer(\n",
        "    transformers=[\n",
        "        (\"num\", pipe, num_selector),\n",
        "        (\"cat\", pipe, cat_selector),\n",
        "    ]\n",
        ")"
      ],
      "metadata": {
        "id": "BkP85CtzmeLT"
      },
      "execution_count": 124,
      "outputs": []
    },
    {
      "cell_type": "code",
      "source": [
        "# Fit with the Xtrain\n",
        "X_train = pd.DataFrame(preprocessor.fit_transform(X_train))\n",
        "\n",
        "# Fit transformer with the Xtest\n",
        "X_test = pd.DataFrame(preprocessor.transform(X_test))"
      ],
      "metadata": {
        "id": "uKtTOxYDm6W_"
      },
      "execution_count": 125,
      "outputs": []
    },
    {
      "cell_type": "markdown",
      "source": [
        "## Modelling"
      ],
      "metadata": {
        "id": "9VEnT4X5nJWs"
      }
    },
    {
      "cell_type": "markdown",
      "source": [
        "### Random Forest Regressor"
      ],
      "metadata": {
        "id": "9O6h4UMonK8-"
      }
    },
    {
      "cell_type": "code",
      "source": [
        "# Import the model\n",
        "from sklearn.ensemble import RandomForestRegressor\n",
        "\n",
        "# Instantiate Random Forest\n",
        "rf = RandomForestRegressor(random_state=101)"
      ],
      "metadata": {
        "id": "OEiTCdR1nFd8"
      },
      "execution_count": 127,
      "outputs": []
    },
    {
      "cell_type": "code",
      "source": [
        "# Create a pipeline for the random forest\n",
        "rf_pipe = Pipeline(\n",
        "    steps=[('preprocessor', preprocessor), ('random forest', rf)]\n",
        ")"
      ],
      "metadata": {
        "id": "Ur0kvky0nO_6"
      },
      "execution_count": 128,
      "outputs": []
    },
    {
      "cell_type": "code",
      "source": [
        "# Fit the model with the training data\n",
        "rf_pipe.fit(X_train, y_train)\n",
        "\n",
        "# Predict with the test set\n",
        "rf_pipe.predict(X_test)"
      ],
      "metadata": {
        "colab": {
          "base_uri": "https://localhost:8080/"
        },
        "id": "AZpwTUy_njU4",
        "outputId": "9a345b1e-a560-4fb4-8430-0e278abff0e4"
      },
      "execution_count": 129,
      "outputs": [
        {
          "output_type": "execute_result",
          "data": {
            "text/plain": [
              "array([39314.73, 13144.13, 27121.92,  4547.87,  4231.65, 23264.52,\n",
              "       31600.  , 21364.8 ,  6466.85, 20146.19, 10433.4 , 12701.75,\n",
              "       36956.23, 21350.  ,  6150.53, 12870.2 , 10879.3 , 10236.29,\n",
              "       18951.92,  8633.  ,  4035.36, 22484.78, 18951.24, 12626.76,\n",
              "        6563.74,  4646.93, 13614.3 ,  6604.37, 23535.6 ,  8491.92,\n",
              "        5782.55,  3284.83,  6444.8 , 33338.48, 17694.62, 18936.28,\n",
              "        8187.63, 21165.77,  4727.78,  5816.53, 15186.1 , 11383.35,\n",
              "       37271.66,  9624.59, 17472.23, 11920.71,  4697.43,  3991.41,\n",
              "        3820.93,  5856.5 , 15798.1 , 10062.76, 29034.59, 10791.83,\n",
              "        4898.1 ,  5352.95,  1002.92, 23428.06, 27649.84, 13913.54,\n",
              "        6456.35, 13018.81, 24389.7 , 19025.8 ,  5646.44, 11849.02,\n",
              "       54729.  , 32997.66, 27071.94, 30742.67, 43447.89, 20487.3 ,\n",
              "        7641.98, 11442.  , 10621.34, 24696.  ,  6052.96, 23880.  ,\n",
              "        7561.08,  1504.33,  8139.65, 23016.55, 27490.  ,  7247.88,\n",
              "        3848.82,  3932.49,  3636.95,  3642.89, 22411.35, 35139.33,\n",
              "       31568.  ,  4500.  , 33338.48,  6935.66,  9346.06, 18866.9 ,\n",
              "        4790.85, 22299.29, 10558.98, 21733.77, 26420.  , 12360.5 ,\n",
              "       15089.73, 24013.6 , 31861.13,  6727.54, 18157.99, 14979.54,\n",
              "        3843.95, 12638.4 , 19241.61,  5195.82, 24388.  ,  7550.94,\n",
              "       19855.15, 14980.  , 26384.  ,  7922.57,  5856.5 ,  3907.7 ,\n",
              "        5033.16, 18884.42, 34684.4 , 28726.05, 27204.  , 36581.18,\n",
              "       45186.1 ,  3780.63, 30043.47, 21381.44, 18336.43,  7140.05,\n",
              "        6942.09,  5389.45, 12943.07,  7649.6 , 12943.07, 29947.99,\n",
              "        4137.24,  3952.1 ,  6318.15, 27606.98, 27857.58, 15377.22,\n",
              "        5966.03, 11847.26,  4464.76,  8341.07,  4769.77,  6214.5 ,\n",
              "       22025.  ,  7400.32, 11591.15, 17822.62, 12993.97, 21987.29,\n",
              "        6438.5 ,  4208.55, 31313.38, 37594.79, 17343.6 , 23999.81,\n",
              "        3383.64, 22442.4 , 10630.92,  8326.17, 15809.6 , 17102.83,\n",
              "       26270.  ,  7424.9 , 23229.11,  4386.49, 29547.9 ,  8692.73,\n",
              "       28500.17,  5832.58, 27090.05,  5988.08,  4500.  ,  7000.91,\n",
              "       10230.98,  4794.73, 23946.65,  6239.5 ,  8024.68, 15025.93,\n",
              "        5178.4 , 29552.  , 23830.  ,  4099.82, 10614.2 , 20420.85,\n",
              "       21204.  ,  6549.75, 20487.3 ,  4610.07, 19493.75, 19334.96,\n",
              "       28206.  , 15768.77, 11755.42, 18155.29,  6457.38, 18126.03,\n",
              "       32865.87, 30297.68, 26480.39, 23922.47, 19382.66, 18155.29,\n",
              "        6221.71,  5673.38, 10562.73,  4343.39, 12751.75,  6330.99,\n",
              "       12114.58, 16760.52, 25170.12, 21315.  , 25709.28, 20740.04,\n",
              "       11047.15, 12900.2 ,  7345.  ,  4773.07,  6727.54,  6841.1 ,\n",
              "        7355.75, 37396.94, 27109.17, 28410.05, 26968.35,  4251.99,\n",
              "       16527.45,  7241.68, 23167.83,  5576.38,  7283.63, 46046.54,\n",
              "        4769.77,  6863.67,  3754.11,  9930.58, 13183.67,  4502.75,\n",
              "        3244.52, 20698.  , 24988.5 , 24086.  , 28863.94, 25937.8 ,\n",
              "       17343.6 , 27266.65, 17279.1 ,  4251.99, 24827.69, 19322.15,\n",
              "       27888.25,  6300.05, 13885.78,  7140.05,  3820.93,  5704.72,\n",
              "       21232.36,  6250.15,  5825.98,  7169.01,  5710.61,  6405.81,\n",
              "        5700.65, 17102.83, 18358.  , 14544.85,  4680.68, 27654.  ,\n",
              "       45602.62,  5350.57, 22438.  , 19173.34, 14819.9 ,  4650.05,\n",
              "       24976.  , 18155.29, 27624.05,  6690.31, 15673.03, 20486.73,\n",
              "        6636.3 , 34471.39,  2444.  , 25257.05, 18472.01,  6457.88,\n",
              "        8670.24, 23914.  , 13997.82, 24540.75, 11151.96, 19137.94,\n",
              "       12717.92, 10004.96,  6945.77, 32839.68,  4549.41, 11765.3 ,\n",
              "       17529.21,  4017.79, 25214.  , 21315.63, 17102.83, 13832.35,\n",
              "       21108.19, 12314.63,  5721.79,  5736.76,  6826.64, 25471.6 ,\n",
              "        3537.14, 13029.95, 26597.4 , 22829.15, 22032.1 ,  6267.12,\n",
              "        4837.49, 20875.35, 15109.82, 13681.2 ,  3888.46,  7147.85,\n",
              "       11849.02, 17236.36,  6225.96, 28884.13, 12501.43,  8319.22,\n",
              "        5352.95,  8558.93, 18987.88, 12701.93,  4239.2 , 24998.  ,\n",
              "       21867.19, 10243.45,  3984.04, 25569.05,  5827.72, 11353.59,\n",
              "       13561.12,  8903.67, 28773.1 , 10302.95,  4417.7 , 24534.  ,\n",
              "        3952.1 ,  5935.1 , 13069.45, 22442.4 , 12499.15,  5979.  ,\n",
              "        8340.88,  3998.44,  5714.81,  8952.47, 23163.4 ,  4671.83,\n",
              "        4490.77, 25663.98, 35783.05, 24430.  ,  5352.95, 20747.38,\n",
              "       15729.95, 18892.88, 19668.45, 17935.52, 23572.55,  4497.5 ,\n",
              "       24913.1 , 43002.4 ,  6582.16, 46341.63,  9678.49, 23549.91,\n",
              "       33738.21, 19137.94,  6686.51, 10280.25, 20218.65,  6985.4 ,\n",
              "        7855.5 ,  5816.53, 25932.  ,  5724.24, 31884.4 , 17993.94,\n",
              "       25744.  ,  7131.54, 16120.75, 24754.99, 19453.8 , 17110.25,\n",
              "        6690.  ,  4888.05, 18339.81, 15606.93, 14328.05, 19493.75,\n",
              "       15377.99,  5586.46,  3991.41,  6724.1 , 24540.75, 28490.  ,\n",
              "       37178.21, 18884.42, 23526.  , 14968.7 ,  5009.62, 10582.64,\n",
              "       44834.49,  6127.1 , 16118.5 ,  4853.6 , 13997.82,  6075.96,\n",
              "       20747.43, 27180.  ,  5693.85, 13699.69,  3170.55, 15768.77,\n",
              "        5365.94, 22411.35, 25084.1 , 12032.15,  5301.85, 21796.19,\n",
              "       14171.58,  7629.75, 30798.  , 18339.81,  3847.89, 10139.73,\n",
              "        3906.8 , 23148.09, 23532.  ,  3619.67, 22365.68, 13029.95,\n",
              "       21453.6 , 13241.7 , 29372.14,  6416.33, 13068.15,  6018.9 ,\n",
              "        8812.06, 45602.62, 13419.31])"
            ]
          },
          "metadata": {},
          "execution_count": 129
        }
      ]
    },
    {
      "cell_type": "code",
      "source": [
        "# Evaluate the model\n",
        "rf_train_score = rf_pipe.score(X_train, y_train)\n",
        "rf_test_score = rf_pipe.score(X_test, y_test)\n",
        "print(f\"Train score is {rf_train_score}\")\n",
        "print(f\"Test score is {rf_test_score}\")\n",
        "\n",
        "print(f'Train RMSE: {np.sqrt(mean_squared_error(y_train, rf_pipe.predict(X_train)))}')\n",
        "print(f'Test RMSE: {np.sqrt(mean_squared_error(y_test, rf_pipe.predict(X_test)))}')"
      ],
      "metadata": {
        "colab": {
          "base_uri": "https://localhost:8080/"
        },
        "id": "5MCKEbqunoWm",
        "outputId": "a63d7e5a-ff02-4232-c94e-e7aab7dc0fc3"
      },
      "execution_count": 130,
      "outputs": [
        {
          "output_type": "stream",
          "name": "stdout",
          "text": [
            "Train score is 0.9455914618395126\n",
            "Test score is 0.6565078819156203\n",
            "Train RMSE: 3241.9096303312717\n",
            "Test RMSE: 7279.5743407097825\n"
          ]
        }
      ]
    },
    {
      "cell_type": "markdown",
      "source": [
        "### XGBoost Regressor"
      ],
      "metadata": {
        "id": "8UC5BERWn91c"
      }
    },
    {
      "cell_type": "code",
      "source": [
        "# Import the model\n",
        "from xgboost import XGBRegressor\n",
        "\n",
        "# Instantiate the model\n",
        "xgb_reg = XGBRegressor()"
      ],
      "metadata": {
        "id": "QcWc7Jr2n8zd"
      },
      "execution_count": 131,
      "outputs": []
    },
    {
      "cell_type": "code",
      "source": [
        "# Make a pipeline\n",
        "xgb_reg_pipe = Pipeline(\n",
        "    steps=(['preprocessor', preprocessor], ['XGBoost Regressor', xgb_reg])\n",
        ")\n",
        "\n",
        "# Fit the model\n",
        "xgb_reg_pipe.fit(X_train, y_train)\n",
        "\n",
        "# Predict\n",
        "xgb_reg_predictions_train = xgb_reg_pipe.predict(X_train)\n",
        "xgb_reg_predictions_test = xgb_reg_pipe.predict(X_test)"
      ],
      "metadata": {
        "colab": {
          "base_uri": "https://localhost:8080/"
        },
        "id": "KcDFjfVCoBav",
        "outputId": "3afe0ec2-3e80-46c4-d5de-e8a82b832548"
      },
      "execution_count": 132,
      "outputs": [
        {
          "output_type": "stream",
          "name": "stdout",
          "text": [
            "[14:38:44] WARNING: /workspace/src/objective/regression_obj.cu:152: reg:linear is now deprecated in favor of reg:squarederror.\n"
          ]
        }
      ]
    },
    {
      "cell_type": "code",
      "source": [
        "# Evaluate the model\n",
        "xgb_reg_score_train = r2_score(y_train, xgb_reg_predictions_train)\n",
        "print(f\"The score of training set is {xgb_reg_score_train}\")\n",
        "\n",
        "xgb_reg_score_test = r2_score(y_test, xgb_reg_predictions_test)\n",
        "print(f\"The score of training set is {xgb_reg_score_test}\")"
      ],
      "metadata": {
        "colab": {
          "base_uri": "https://localhost:8080/"
        },
        "id": "qTwHH9WDoDIF",
        "outputId": "d1a2a157-db84-4be8-97b7-4b6dff268cc3"
      },
      "execution_count": 133,
      "outputs": [
        {
          "output_type": "stream",
          "name": "stdout",
          "text": [
            "The score of training set is 0.7456399435086851\n",
            "The score of training set is 0.5777805187461522\n"
          ]
        }
      ]
    }
  ]
}